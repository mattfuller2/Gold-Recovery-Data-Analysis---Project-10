{
 "cells": [
  {
   "cell_type": "markdown",
   "metadata": {},
   "source": [
    "**Review**\n",
    "\n",
    "Hello Matthew!\n",
    "\n",
    "I'm happy to review your project today.\n",
    "  \n",
    "You can find my comments in colored markdown cells:\n",
    "  \n",
    "<div class=\"alert alert-success\">\n",
    "  If everything is done successfully.\n",
    "</div>\n",
    "  \n",
    "<div class=\"alert alert-warning\">\n",
    "  If I have some (optional) suggestions, or questions to think about, or general comments.\n",
    "</div>\n",
    "  \n",
    "<div class=\"alert alert-danger\">\n",
    "  If a section requires some corrections. Work can't be accepted with red comments.\n",
    "</div>\n",
    "  \n",
    "Please don't remove my comments, as it will make further review iterations much harder for me.\n",
    "  \n",
    "Feel free to reply to my comments or ask questions using the following template:\n",
    "  \n",
    "<div class=\"alert alert-info\">\n",
    "  Thank you so much for your feedbacks. I've split the cells into multiple so it's easier. Hopefully i got it right this time. Thank you!\n",
    "</div>\n",
    "  \n",
    "First of all, thank you for turning in the project! You did a great job overall, but there are some small problems that need to be fixed before the project will be accepted. Let me know if you have any questions!\n"
   ]
  },
  {
   "cell_type": "markdown",
   "metadata": {},
   "source": [
    "# Gold Recovery Data Analysis Project\n",
    "\n",
    "## Introduction\n",
    "\n",
    "In this project, we aim to analyze and model the processes involved in gold recovery from ore. The dataset comprises various features that capture the characteristics of the materials used in gold recovery, including concentrations of metals at different purification stages and feed particle sizes.\n",
    "\n",
    "### Objectives\n",
    "\n",
    "1. **Data Preparation**: We will load and explore the datasets, validate the recovery calculations, analyze missing features, and perform necessary data preprocessing.\n",
    "   \n",
    "2. **Data Analysis**: Our analysis will focus on:\n",
    "   - Investigating how the concentrations of key metals (Gold, Silver, Lead) change throughout the purification stages.\n",
    "   - Comparing the distribution of feed particle sizes in the training and test datasets to identify potential discrepancies that may impact model performance.\n",
    "   - Analyzing total concentrations of metals at various stages to identify any anomalies or outliers in the data.\n",
    "\n",
    "3. **Model Development**: We will build predictive models to estimate gold recovery rates. This involves:\n",
    "   - Training multiple models and evaluating their performance using cross-validation.\n",
    "   - Selecting the best-performing model based on evaluation metrics and testing it against the test dataset.\n",
    "\n",
    "### Importance of the Study\n",
    "\n",
    "Understanding the gold recovery process and developing accurate predictive models are essential for optimizing operations in the mining industry. This analysis will provide insights into the factors affecting gold recovery, leading to more efficient resource management and increased profitability.\n",
    "\n",
    "Through this project, we will leverage statistical analysis, data visualization, and machine learning techniques to enhance our understanding of the gold recovery process and its complexities.\n"
   ]
  },
  {
   "cell_type": "code",
   "execution_count": 1,
   "metadata": {
    "scrolled": false
   },
   "outputs": [
    {
     "name": "stdout",
     "output_type": "stream",
     "text": [
      "Training Data:\n",
      "0        87.107763\n",
      "1        86.843261\n",
      "2        86.842308\n",
      "3        87.226430\n",
      "4        86.688794\n",
      "           ...    \n",
      "16855    89.574376\n",
      "16856    87.724007\n",
      "16857    88.890579\n",
      "16858    89.858126\n",
      "16859    89.514960\n",
      "Name: rougher.output.recovery, Length: 16860, dtype: float64\n",
      "\n",
      "Test Data:\n",
      "\n",
      "Full Data:\n"
     ]
    }
   ],
   "source": [
    "# Import necessary libraries\n",
    "import pandas as pd\n",
    "import numpy as np\n",
    "import matplotlib.pyplot as plt\n",
    "import seaborn as sns\n",
    "from sklearn.metrics import mean_absolute_error\n",
    "from sklearn.model_selection import cross_val_score, train_test_split, RandomizedSearchCV\n",
    "from sklearn.ensemble import RandomForestRegressor  # Example model\n",
    "from sklearn.linear_model import LinearRegression\n",
    "from sklearn.metrics import make_scorer\n",
    "from sklearn.ensemble import GradientBoostingRegressor\n",
    "\n",
    "\n",
    "\n",
    "\n",
    "# 1. Prepare the data\n",
    "\n",
    "# 1.1 Open the files and look into the data\n",
    "train = pd.read_csv('/datasets/gold_recovery_train.csv')\n",
    "test = pd.read_csv('/datasets/gold_recovery_test.csv')\n",
    "full = pd.read_csv('/datasets/gold_recovery_full.csv')\n",
    "\n",
    "# Display the first few rows of each dataset\n",
    "print(\"Training Data:\")\n",
    "print(train['rougher.output.recovery'])\n",
    "#print(train.info())\n",
    "#print(train.head())\n",
    "\n",
    "print(\"\\nTest Data:\")\n",
    "#print(test.head())\n",
    "\n",
    "print(\"\\nFull Data:\")\n",
    "#print(full.head())"
   ]
  },
  {
   "cell_type": "markdown",
   "metadata": {},
   "source": [
    "<div class=\"alert alert-block alert-danger\">\n",
    "<b>Reviewer's comment V1</b> <a class=\"tocSkip\"></a>\n",
    "\n",
    "When you work with ML models it's always not a good idea to remove a row because of NaN in one column because you lose information from other columns which can be useful for model training. So, instead of dropping NaNs it's better to fill them.\n",
    "    \n",
    "When you work with ordered data there is a better way to fill NaNs. What is the closest value for the time T? The value from time T-1. Agree? You can use it to fill all the NaNs. Method fillna() has such functionality. Just read the documentation to find out how to use it.\n",
    "    \n",
    "P.S. You should fill the NaNs after the next task and not before. Otherwise you will get incorrert MAE.\n",
    "  \n",
    "</div>"
   ]
  },
  {
   "cell_type": "markdown",
   "metadata": {},
   "source": [
    "<div class=\"alert alert-block alert-danger\">\n",
    "<b>Reviewer's comment V2</b> <a class=\"tocSkip\"></a>\n",
    "\n",
    "Not fixed\n",
    "  \n",
    "</div>"
   ]
  },
  {
   "cell_type": "markdown",
   "metadata": {},
   "source": [
    "###### HELP\n",
    "The problem I'm running into is if I fill NaNs after calculating the MAE, i get the error \"ValueError: Input contains NaN, infinity or a value too large for dtype('float64').\"\n",
    "\n",
    "But if I fill it before, I do not get that."
   ]
  },
  {
   "cell_type": "markdown",
   "metadata": {},
   "source": [
    "<div class=\"alert alert-block alert-danger\">\n",
    "<b>Reviewer's comment V3</b> <a class=\"tocSkip\"></a>\n",
    "\n",
    "I need to see where this error appears to help you. Probably you filled not all NaNs\n",
    "  \n",
    "</div>"
   ]
  },
  {
   "cell_type": "markdown",
   "metadata": {},
   "source": [
    "<div class=\"alert alert-block alert-danger\">\n",
    "<b>Reviewer's comment V4</b> <a class=\"tocSkip\"></a>\n",
    "\n",
    "I see. It seems mean_absolute_error doesn't want to work with NaNs. To avoid this problem, you can calcualte MAE manually: `(train['rougher.output.recovery'] - train['rougher.output.recovery_calculated']).abs().mean()`\n",
    "  \n",
    "</div>"
   ]
  },
  {
   "cell_type": "markdown",
   "metadata": {},
   "source": [
    "<div class=\"alert alert-block alert-success\">\n",
    "<b>Reviewer's comment V5</b> <a class=\"tocSkip\"></a>\n",
    "\n",
    "Correct. Good job!\n",
    "    \n",
    "</div>"
   ]
  },
  {
   "cell_type": "code",
   "execution_count": 2,
   "metadata": {
    "scrolled": true
   },
   "outputs": [],
   "source": [
    "# 1.2 Calculate the recovery manually\n",
    "train['rougher.output.recovery_calculated'] = (train['rougher.output.concentrate_au'] * (train['rougher.input.feed_au'] - train['rougher.output.tail_au'])) / \\\n",
    "                                             (train['rougher.input.feed_au'] * (train['rougher.output.concentrate_au'] - train['rougher.output.tail_au'])) * 100\n",
    "\n",
    "# Calculate MAE between calculated and actual values\n",
    "from sklearn.metrics import mean_absolute_error\n"
   ]
  },
  {
   "cell_type": "code",
   "execution_count": 3,
   "metadata": {},
   "outputs": [
    {
     "name": "stdout",
     "output_type": "stream",
     "text": [
      "MAE between calculated and actual rougher.output.recovery: 9.303415616264301e-15\n"
     ]
    }
   ],
   "source": [
    "mae_recovery = (train['rougher.output.recovery'] - train['rougher.output.recovery_calculated']).abs().mean()\n",
    "print(f'MAE between calculated and actual rougher.output.recovery: {mae_recovery}')\n"
   ]
  },
  {
   "cell_type": "code",
   "execution_count": 4,
   "metadata": {},
   "outputs": [
    {
     "name": "stdout",
     "output_type": "stream",
     "text": [
      "NaN values in train dataset:\n",
      " date                                          0\n",
      "final.output.concentrate_ag                   0\n",
      "final.output.concentrate_pb                   0\n",
      "final.output.concentrate_sol                  0\n",
      "final.output.concentrate_au                   0\n",
      "                                             ..\n",
      "secondary_cleaner.state.floatbank5_b_air      0\n",
      "secondary_cleaner.state.floatbank5_b_level    0\n",
      "secondary_cleaner.state.floatbank6_a_air      0\n",
      "secondary_cleaner.state.floatbank6_a_level    0\n",
      "rougher.output.recovery_calculated            0\n",
      "Length: 88, dtype: int64\n",
      "\n",
      "NaN values in test dataset:\n",
      " date                                          0\n",
      "primary_cleaner.input.sulfate                 0\n",
      "primary_cleaner.input.depressant              0\n",
      "primary_cleaner.input.feed_size               0\n",
      "primary_cleaner.input.xanthate                0\n",
      "primary_cleaner.state.floatbank8_a_air        0\n",
      "primary_cleaner.state.floatbank8_a_level      0\n",
      "primary_cleaner.state.floatbank8_b_air        0\n",
      "primary_cleaner.state.floatbank8_b_level      0\n",
      "primary_cleaner.state.floatbank8_c_air        0\n",
      "primary_cleaner.state.floatbank8_c_level      0\n",
      "primary_cleaner.state.floatbank8_d_air        0\n",
      "primary_cleaner.state.floatbank8_d_level      0\n",
      "rougher.input.feed_ag                         0\n",
      "rougher.input.feed_pb                         0\n",
      "rougher.input.feed_rate                       0\n",
      "rougher.input.feed_size                       0\n",
      "rougher.input.feed_sol                        0\n",
      "rougher.input.feed_au                         0\n",
      "rougher.input.floatbank10_sulfate             0\n",
      "rougher.input.floatbank10_xanthate            0\n",
      "rougher.input.floatbank11_sulfate             0\n",
      "rougher.input.floatbank11_xanthate            0\n",
      "rougher.state.floatbank10_a_air               0\n",
      "rougher.state.floatbank10_a_level             0\n",
      "rougher.state.floatbank10_b_air               0\n",
      "rougher.state.floatbank10_b_level             0\n",
      "rougher.state.floatbank10_c_air               0\n",
      "rougher.state.floatbank10_c_level             0\n",
      "rougher.state.floatbank10_d_air               0\n",
      "rougher.state.floatbank10_d_level             0\n",
      "rougher.state.floatbank10_e_air               0\n",
      "rougher.state.floatbank10_e_level             0\n",
      "rougher.state.floatbank10_f_air               0\n",
      "rougher.state.floatbank10_f_level             0\n",
      "secondary_cleaner.state.floatbank2_a_air      0\n",
      "secondary_cleaner.state.floatbank2_a_level    0\n",
      "secondary_cleaner.state.floatbank2_b_air      0\n",
      "secondary_cleaner.state.floatbank2_b_level    0\n",
      "secondary_cleaner.state.floatbank3_a_air      0\n",
      "secondary_cleaner.state.floatbank3_a_level    0\n",
      "secondary_cleaner.state.floatbank3_b_air      0\n",
      "secondary_cleaner.state.floatbank3_b_level    0\n",
      "secondary_cleaner.state.floatbank4_a_air      0\n",
      "secondary_cleaner.state.floatbank4_a_level    0\n",
      "secondary_cleaner.state.floatbank4_b_air      0\n",
      "secondary_cleaner.state.floatbank4_b_level    0\n",
      "secondary_cleaner.state.floatbank5_a_air      0\n",
      "secondary_cleaner.state.floatbank5_a_level    0\n",
      "secondary_cleaner.state.floatbank5_b_air      0\n",
      "secondary_cleaner.state.floatbank5_b_level    0\n",
      "secondary_cleaner.state.floatbank6_a_air      0\n",
      "secondary_cleaner.state.floatbank6_a_level    0\n",
      "dtype: int64\n",
      "\n",
      "NaN values in full dataset:\n",
      " date                                          0\n",
      "final.output.concentrate_ag                   0\n",
      "final.output.concentrate_pb                   0\n",
      "final.output.concentrate_sol                  0\n",
      "final.output.concentrate_au                   0\n",
      "                                             ..\n",
      "secondary_cleaner.state.floatbank5_a_level    0\n",
      "secondary_cleaner.state.floatbank5_b_air      0\n",
      "secondary_cleaner.state.floatbank5_b_level    0\n",
      "secondary_cleaner.state.floatbank6_a_air      0\n",
      "secondary_cleaner.state.floatbank6_a_level    0\n",
      "Length: 87, dtype: int64\n"
     ]
    }
   ],
   "source": [
    "# Fill NaNs using forward fill\n",
    "train.fillna(method='ffill', inplace=True)\n",
    "test.fillna(method='ffill', inplace=True)\n",
    "full.fillna(method='ffill', inplace=True)\n",
    "\n",
    "# Fill any remaining NaNs (e.g., at the start of the time series)\n",
    "train.fillna(0, inplace=True)\n",
    "test.fillna(0, inplace=True)\n",
    "full.fillna(0, inplace=True)\n",
    "\n",
    "# Check for NaN values in the training data\n",
    "print(\"NaN values in train dataset:\\n\", train.isna().sum())\n",
    "print()\n",
    "print(\"NaN values in test dataset:\\n\", test.isna().sum())\n",
    "print()\n",
    "print(\"NaN values in full dataset:\\n\", full.isna().sum())\n"
   ]
  },
  {
   "cell_type": "markdown",
   "metadata": {},
   "source": [
    "<div class=\"alert alert-block alert-success\">\n",
    "<b>Reviewer's comment V1</b> <a class=\"tocSkip\"></a>\n",
    "\n",
    "Correct. Good job!\n",
    "  \n",
    "</div>"
   ]
  },
  {
   "cell_type": "code",
   "execution_count": 5,
   "metadata": {},
   "outputs": [
    {
     "name": "stdout",
     "output_type": "stream",
     "text": [
      "{'rougher.output.tail_ag', 'final.output.concentrate_ag', 'primary_cleaner.output.concentrate_sol', 'rougher.output.tail_sol', 'rougher.output.concentrate_pb', 'final.output.tail_ag', 'primary_cleaner.output.concentrate_au', 'rougher.calculation.sulfate_to_au_concentrate', 'rougher.calculation.floatbank11_sulfate_to_au_feed', 'primary_cleaner.output.concentrate_ag', 'primary_cleaner.output.tail_ag', 'final.output.tail_au', 'primary_cleaner.output.tail_pb', 'rougher.output.concentrate_sol', 'secondary_cleaner.output.tail_sol', 'primary_cleaner.output.tail_sol', 'final.output.tail_sol', 'final.output.recovery', 'rougher.calculation.floatbank10_sulfate_to_au_feed', 'primary_cleaner.output.concentrate_pb', 'rougher.output.tail_au', 'rougher.output.concentrate_ag', 'final.output.tail_pb', 'rougher.output.concentrate_au', 'secondary_cleaner.output.tail_pb', 'primary_cleaner.output.tail_au', 'rougher.calculation.au_pb_ratio', 'secondary_cleaner.output.tail_ag', 'rougher.output.recovery', 'rougher.output.recovery_calculated', 'final.output.concentrate_pb', 'secondary_cleaner.output.tail_au', 'final.output.concentrate_sol', 'rougher.output.tail_pb', 'final.output.concentrate_au'}\n"
     ]
    }
   ],
   "source": [
    "# 1.3 Analyze features not available in the test set\n",
    "\n",
    "# Find features present in the training set but missing in the test set\n",
    "missing_in_test = set(train.columns) - set(test.columns)\n",
    "print(missing_in_test)\n"
   ]
  },
  {
   "cell_type": "markdown",
   "metadata": {},
   "source": [
    "###### Findings:\n",
    "Here, we loaded and viewed the data in the train, test, and full datasets. We found that there were NaN values so we dropped them because they will not help the featured value results."
   ]
  },
  {
   "cell_type": "code",
   "execution_count": 6,
   "metadata": {},
   "outputs": [
    {
     "data": {
      "image/png": "[encoded data removed]",
      "text/plain": [
       "<Figure size 1200x600 with 3 Axes>"
      ]
     },
     "metadata": {},
     "output_type": "display_data"
    }
   ],
   "source": [
    "import matplotlib.pyplot as plt\n",
    "\n",
    "# Rename the columns with shorter labels\n",
    "metal_short_labels = {\n",
    "    'rougher.input.feed_au': 'Feed_Au', 'rougher.output.concentrate_au': 'Rougher_Con_Au', 'final.output.concentrate_au': 'Final_Con_Au',\n",
    "    'rougher.input.feed_ag': 'Feed_Ag', 'rougher.output.concentrate_ag': 'Rougher_Con_Ag', 'final.output.concentrate_ag': 'Final_Con_Ag',\n",
    "    'rougher.input.feed_pb': 'Feed_Pb', 'rougher.output.concentrate_pb': 'Rougher_Con_Pb', 'final.output.concentrate_pb': 'Final_Con_Pb'\n",
    "}\n",
    "\n",
    "# Use shorter labels in plotting\n",
    "plt.figure(figsize=(12, 6))\n",
    "\n",
    "for i, metal in enumerate(['Au', 'Ag', 'Pb']):\n",
    "    plt.subplot(1, 3, i+1)\n",
    "    train[[f'rougher.input.feed_{metal.lower()}', f'rougher.output.concentrate_{metal.lower()}', f'final.output.concentrate_{metal.lower()}']].rename(columns=metal_short_labels).plot(kind='box', ax=plt.gca())\n",
    "    plt.title(f'Concentration of {metal} Across Stages')\n",
    "    plt.ylabel(f'{metal} Concentration')\n",
    "    plt.xticks(rotation=45)  # Rotate x-axis labels by 45 degrees\n",
    "\n",
    "plt.tight_layout()\n",
    "plt.show()\n"
   ]
  },
  {
   "cell_type": "markdown",
   "metadata": {},
   "source": [
    "###### Findings:\n",
    "Based on the plots above, we can see that the Au and Pb concentrations got higher as we go through the purification process, indicating that after each step, we are getting more of just the element.\n",
    "\n",
    "As for the Ag, we can see that the highest concentration of Ag comes during the rougher_concentration stage, indicating that this when the most concentrated Ag is coming."
   ]
  },
  {
   "cell_type": "markdown",
   "metadata": {},
   "source": [
    "<div class=\"alert alert-block alert-success\">\n",
    "<b>Reviewer's comment V1</b> <a class=\"tocSkip\"></a>\n",
    "\n",
    "Well done!\n",
    "  \n",
    "</div>"
   ]
  },
  {
   "cell_type": "code",
   "execution_count": 7,
   "metadata": {},
   "outputs": [
    {
     "data": {
      "image/png": "[encoded data removed]",
      "text/plain": [
       "<Figure size 1000x500 with 1 Axes>"
      ]
     },
     "metadata": {},
     "output_type": "display_data"
    }
   ],
   "source": [
    "# 2.2. Feed Particle Size Distribution Comparison\n",
    "\n",
    "# Plot the particle size distributions for training and test sets\n",
    "plt.figure(figsize=(10, 5))\n",
    "\n",
    "# Rougher input feed size comparison\n",
    "plt.subplot(1, 2, 1)\n",
    "train['rougher.input.feed_size'].plot(kind='density', label='Train', color='blue')\n",
    "test['rougher.input.feed_size'].plot(kind='density', label='Test', color='orange')\n",
    "plt.title('Rougher Feed Size Distribution')\n",
    "plt.xlabel('Feed Size')\n",
    "plt.legend()\n",
    "\n",
    "plt.tight_layout()\n",
    "plt.show()\n"
   ]
  },
  {
   "cell_type": "markdown",
   "metadata": {},
   "source": [
    "###### Findings:\n",
    "We can see from the plot that the feed distributions in the training set and in the test set are the same, indicating that the model will be correct."
   ]
  },
  {
   "cell_type": "markdown",
   "metadata": {},
   "source": [
    "<div class=\"alert alert-block alert-success\">\n",
    "<b>Reviewer's comment V1</b> <a class=\"tocSkip\"></a>\n",
    "\n",
    "Correct\n",
    "  \n",
    "</div>"
   ]
  },
  {
   "cell_type": "code",
   "execution_count": 8,
   "metadata": {},
   "outputs": [
    {
     "data": {
      "image/png": "[encoded data removed]",
      "text/plain": [
       "<Figure size 1200x600 with 3 Axes>"
      ]
     },
     "metadata": {},
     "output_type": "display_data"
    }
   ],
   "source": [
    "# 2.3. Total Concentrations at Different Stages\n",
    "\n",
    "# Function to remove outliers using the IQR method\n",
    "def remove_outliers(df, column):\n",
    "    Q1 = df[column].quantile(0.25)\n",
    "    Q3 = df[column].quantile(0.75)\n",
    "    IQR = Q3 - Q1\n",
    "    lower_bound = Q1 - 1.5 * IQR\n",
    "    upper_bound = Q3 + 1.5 * IQR\n",
    "    return df[(df[column] >= lower_bound) & (df[column] <= upper_bound)]\n",
    "\n",
    "\n",
    "train['total_concentration_feed'] = (train['rougher.input.feed_au'] + \n",
    "                                     train['rougher.input.feed_ag'] + \n",
    "                                     train['rougher.input.feed_pb'])\n",
    "\n",
    "train['total_concentration_rougher'] = (train['rougher.output.concentrate_au'] + \n",
    "                                        train['rougher.output.concentrate_ag'] + \n",
    "                                        train['rougher.output.concentrate_pb'])\n",
    "\n",
    "train['total_concentration_final'] = (train['final.output.concentrate_au'] + \n",
    "                                      train['final.output.concentrate_ag'] + \n",
    "                                      train['final.output.concentrate_pb'])\n",
    "\n",
    "# Remove outliers from each total concentration column\n",
    "train_no_outliers = train.copy()\n",
    "\n",
    "train_no_outliers = remove_outliers(train_no_outliers, 'total_concentration_feed')\n",
    "train_no_outliers = remove_outliers(train_no_outliers, 'total_concentration_rougher')\n",
    "train_no_outliers = remove_outliers(train_no_outliers, 'total_concentration_final')\n",
    "\n",
    "# Plot the total concentration distributions without outliers\n",
    "plt.figure(figsize=(12, 6))\n",
    "\n",
    "plt.subplot(1, 3, 1)\n",
    "train_no_outliers['total_concentration_feed'].plot(kind='hist', bins=50, color='blue', alpha=0.7)\n",
    "plt.title('Total Concentration in Raw Feed')\n",
    "plt.xlabel('Concentration')\n",
    "\n",
    "plt.subplot(1, 3, 2)\n",
    "train_no_outliers['total_concentration_rougher'].plot(kind='hist', bins=50, color='green', alpha=0.7)\n",
    "plt.title('Total Concentration in Rougher Concentrate')\n",
    "plt.xlabel('Concentration')\n",
    "\n",
    "plt.subplot(1, 3, 3)\n",
    "train_no_outliers['total_concentration_final'].plot(kind='hist', bins=50, color='orange', alpha=0.7)\n",
    "plt.title('Total Concentration in Final Concentrate ')\n",
    "plt.xlabel('Concentration')\n",
    "\n",
    "plt.tight_layout()\n",
    "plt.show()\n"
   ]
  },
  {
   "cell_type": "markdown",
   "metadata": {},
   "source": [
    "###### Findings:\n",
    "From the plots below, we can see that after each stae of the purification process, the higher the concentration of the element. This indicates that the purification process and models are working correctly."
   ]
  },
  {
   "cell_type": "markdown",
   "metadata": {},
   "source": [
    "<div class=\"alert alert-block alert-danger\">\n",
    "<b>Reviewer's comment V1</b> <a class=\"tocSkip\"></a>\n",
    "\n",
    "Correct. But you missed one part of this task: \"Do you notice any abnormal values in the total distribution? If you do, is it worth removing such values from both samples? Describe the findings and eliminate anomalies.\" Do you see peaks near zero? Is it possible to have near zero total concentration at least on one stage?\n",
    "  \n",
    "</div>"
   ]
  },
  {
   "cell_type": "markdown",
   "metadata": {},
   "source": [
    "<div class=\"alert alert-block alert-success\">\n",
    "<b>Reviewer's comment V2</b> <a class=\"tocSkip\"></a>\n",
    "\n",
    "Correct. Good job!\n",
    "  \n",
    "</div>"
   ]
  },
  {
   "cell_type": "code",
   "execution_count": 9,
   "metadata": {},
   "outputs": [],
   "source": [
    "# 3.1. Function to Calculate the Final sMAPE Value\n",
    "\n",
    "# sMAPE function\n",
    "def smape(y_true, y_pred):\n",
    "    numerator = np.abs(y_pred - y_true)\n",
    "    denominator = (np.abs(y_true) + np.abs(y_pred)) / 2\n",
    "    smape_value = np.mean(numerator / denominator) * 100\n",
    "    return smape_value\n",
    "\n",
    "def final_smape(smape_rougher, smape_final):\n",
    "    return 0.25 * smape_rougher + 0.75 * smape_final\n"
   ]
  },
  {
   "cell_type": "code",
   "execution_count": 10,
   "metadata": {},
   "outputs": [
    {
     "name": "stdout",
     "output_type": "stream",
     "text": [
      "                  date  primary_cleaner.input.sulfate  \\\n",
      "0  2016-09-01 00:59:59                     210.800909   \n",
      "1  2016-09-01 01:59:59                     215.392455   \n",
      "2  2016-09-01 02:59:59                     215.259946   \n",
      "3  2016-09-01 03:59:59                     215.336236   \n",
      "4  2016-09-01 04:59:59                     199.099327   \n",
      "\n",
      "   primary_cleaner.input.depressant  primary_cleaner.input.feed_size  \\\n",
      "0                         14.993118                         8.080000   \n",
      "1                         14.987471                         8.080000   \n",
      "2                         12.884934                         7.786667   \n",
      "3                         12.006805                         7.640000   \n",
      "4                         10.682530                         7.530000   \n",
      "\n",
      "   primary_cleaner.input.xanthate  primary_cleaner.state.floatbank8_a_air  \\\n",
      "0                        1.005021                             1398.981301   \n",
      "1                        0.990469                             1398.777912   \n",
      "2                        0.996043                             1398.493666   \n",
      "3                        0.863514                             1399.618111   \n",
      "4                        0.805575                             1401.268123   \n",
      "\n",
      "   primary_cleaner.state.floatbank8_a_level  \\\n",
      "0                               -500.225577   \n",
      "1                               -500.057435   \n",
      "2                               -500.868360   \n",
      "3                               -498.863574   \n",
      "4                               -500.808305   \n",
      "\n",
      "   primary_cleaner.state.floatbank8_b_air  \\\n",
      "0                             1399.144926   \n",
      "1                             1398.055362   \n",
      "2                             1398.860436   \n",
      "3                             1397.440120   \n",
      "4                             1398.128818   \n",
      "\n",
      "   primary_cleaner.state.floatbank8_b_level  \\\n",
      "0                               -499.919735   \n",
      "1                               -499.778182   \n",
      "2                               -499.764529   \n",
      "3                               -499.211024   \n",
      "4                               -499.504543   \n",
      "\n",
      "   primary_cleaner.state.floatbank8_c_air  ...  \\\n",
      "0                             1400.102998  ...   \n",
      "1                             1396.151033  ...   \n",
      "2                             1398.075709  ...   \n",
      "3                             1400.129303  ...   \n",
      "4                             1402.172226  ...   \n",
      "\n",
      "   secondary_cleaner.state.floatbank4_b_air  \\\n",
      "0                                  8.016656   \n",
      "1                                  8.130979   \n",
      "2                                  8.096893   \n",
      "3                                  8.074946   \n",
      "4                                  8.054678   \n",
      "\n",
      "   secondary_cleaner.state.floatbank4_b_level  \\\n",
      "0                                 -501.289139   \n",
      "1                                 -499.634209   \n",
      "2                                 -500.827423   \n",
      "3                                 -499.474407   \n",
      "4                                 -500.397500   \n",
      "\n",
      "   secondary_cleaner.state.floatbank5_a_air  \\\n",
      "0                                  7.946562   \n",
      "1                                  7.958270   \n",
      "2                                  8.071056   \n",
      "3                                  7.897085   \n",
      "4                                  8.107890   \n",
      "\n",
      "   secondary_cleaner.state.floatbank5_a_level  \\\n",
      "0                                 -432.317850   \n",
      "1                                 -525.839648   \n",
      "2                                 -500.801673   \n",
      "3                                 -500.868509   \n",
      "4                                 -509.526725   \n",
      "\n",
      "   secondary_cleaner.state.floatbank5_b_air  \\\n",
      "0                                  4.872511   \n",
      "1                                  4.878850   \n",
      "2                                  4.905125   \n",
      "3                                  4.931400   \n",
      "4                                  4.957674   \n",
      "\n",
      "   secondary_cleaner.state.floatbank5_b_level  \\\n",
      "0                                 -500.037437   \n",
      "1                                 -500.162375   \n",
      "2                                 -499.828510   \n",
      "3                                 -499.963623   \n",
      "4                                 -500.360026   \n",
      "\n",
      "   secondary_cleaner.state.floatbank6_a_air  \\\n",
      "0                                 26.705889   \n",
      "1                                 25.019940   \n",
      "2                                 24.994862   \n",
      "3                                 24.948919   \n",
      "4                                 25.003331   \n",
      "\n",
      "   secondary_cleaner.state.floatbank6_a_level  rougher.output.recovery  \\\n",
      "0                                 -499.709414                89.993421   \n",
      "1                                 -499.819438                88.089657   \n",
      "2                                 -500.622559                88.412756   \n",
      "3                                 -498.709987                87.360133   \n",
      "4                                 -500.856333                83.236367   \n",
      "\n",
      "   final.output.recovery  \n",
      "0              70.273583  \n",
      "1              68.910432  \n",
      "2              68.143213  \n",
      "3              67.776393  \n",
      "4              61.467078  \n",
      "\n",
      "[5 rows x 55 columns]\n"
     ]
    }
   ],
   "source": [
    "# Merge the test data with the full data on the 'date' column to extract targets\n",
    "test_with_targets = test.merge(full[['date', 'rougher.output.recovery', 'final.output.recovery']], \n",
    "                               on='date', how='left')\n",
    "\n",
    "# Check if the merge was successful and the target columns are present\n",
    "print(test_with_targets.head())\n",
    "\n",
    "# Extract the actual target columns from the merged data\n",
    "y_rougher_test = test_with_targets['rougher.output.recovery']\n",
    "y_final_test = test_with_targets['final.output.recovery']"
   ]
  },
  {
   "cell_type": "code",
   "execution_count": 11,
   "metadata": {},
   "outputs": [],
   "source": [
    "# 3.2. Train Different Models and Evaluate\n",
    "\n",
    "\n",
    "\n",
    "# Merge the test data with the full dataset to get the target values\n",
    "test_with_targets = test.merge(full[['date', 'rougher.output.recovery', 'final.output.recovery']], on='date', how='left')\n",
    "\n",
    "# Extract features and target variables from training data\n",
    "X_train = train.drop(['rougher.output.recovery', 'final.output.recovery'], axis=1)\n",
    "y_rougher_train = train['rougher.output.recovery']\n",
    "y_final_train = train['final.output.recovery']\n",
    "\n",
    "# Extract test features and target variables from test data\n",
    "X_test = test.drop('date', axis=1)\n",
    "y_rougher_test = test_with_targets['rougher.output.recovery']\n",
    "y_final_test = test_with_targets['final.output.recovery']\n",
    "\n",
    "# Ensure both datasets have the same features\n",
    "common_columns = X_train.columns.intersection(X_test.columns)\n",
    "X_train = X_train[common_columns]\n",
    "X_test = X_test[common_columns]"
   ]
  },
  {
   "cell_type": "code",
   "execution_count": null,
   "metadata": {},
   "outputs": [
    {
     "name": "stderr",
     "output_type": "stream",
     "text": [
      "/opt/conda/envs/python3/lib/python3.9/site-packages/sklearn/model_selection/_search.py:285: UserWarning: The total space of parameters 1 is smaller than n_iter=10. Running 1 iterations. For exhaustive searches, use GridSearchCV.\n",
      "  warnings.warn(\n"
     ]
    }
   ],
   "source": [
    "# Train and Evaluate Different Models\n",
    "\n",
    "# --------- Train Random Forest Model and Tune Hyperparameters -------------\n",
    "# Define parameter grid for RandomizedSearchCV\n",
    "param_grid_rf = {\n",
    "    'n_estimators': [50],\n",
    "    'max_depth': [5],\n",
    "    'min_samples_split': [2],\n",
    "    'min_samples_leaf': [1],\n",
    "}\n",
    "\n",
    "# Perform RandomizedSearchCV for hyperparameter tuning\n",
    "rf_model = RandomForestRegressor(random_state=42)\n",
    "rf_random_search = RandomizedSearchCV(estimator=rf_model, param_distributions=param_grid_rf, \n",
    "                                       cv=3, random_state=42, n_jobs=-1)\n",
    "\n",
    "\n",
    "# Tune and fit the Random Forest model for the rougher stage\n",
    "rf_random_search.fit(X_train, y_rougher_train)\n",
    "\n",
    "y_rougher_pred = rf_random_search.predict(X_test)\n",
    "\n",
    "smape_rougher = smape(y_rougher_test, y_rougher_pred)\n",
    "# Tune and fit the Random Forest model for the final stage\n",
    "rf_random_search.fit(X_train, y_final_train)\n",
    "y_final_pred = rf_random_search.predict(X_test)\n",
    "smape_final = smape(y_final_test, y_final_pred)\n",
    "\n",
    "# Calculate the final sMAPE for Random Forest\n",
    "final_smape_rf = final_smape(smape_rougher, smape_final)\n",
    "print(\"Final sMAPE (Random Forest with Hyperparameter Tuning):\", final_smape_rf)"
   ]
  },
  {
   "cell_type": "code",
   "execution_count": null,
   "metadata": {},
   "outputs": [],
   "source": [
    "# --------- Train Linear Regression Model -------------\n",
    "# Define the Linear Regression model\n",
    "lr_model = LinearRegression()\n",
    "\n",
    "# Rougher stage model for Linear Regression\n",
    "lr_model.fit(X_train, y_rougher_train)\n",
    "y_rougher_pred_lr = lr_model.predict(X_test)\n",
    "smape_rougher_lr = smape(y_rougher_test, y_rougher_pred_lr)\n",
    "\n",
    "# Final stage model for Linear Regression\n",
    "lr_model.fit(X_train, y_final_train)\n",
    "y_final_pred_lr = lr_model.predict(X_test)\n",
    "smape_final_lr = smape(y_final_test, y_final_pred_lr)\n",
    "\n",
    "# Calculate the final sMAPE for Linear Regression\n",
    "final_smape_lr = final_smape(smape_rougher_lr, smape_final_lr)\n",
    "print(\"Final sMAPE (Linear Regression):\", final_smape_lr)\n",
    "\n",
    "if final_smape_lr < final_smape_rf:\n",
    "    final_smape_best_model = final_smape_lr\n",
    "    print(\"Best model: \", final_smape_best_model)\n",
    "elif final_smape_lr > final_smape_rf:\n",
    "    final_smape_best_model = final_smape_rf\n",
    "    print(\"Best model: \", final_smape_best_model)\n",
    "else:\n",
    "    print(\"The models have the same sMAPE, so either model is the best.\")"
   ]
  },
  {
   "cell_type": "code",
   "execution_count": null,
   "metadata": {},
   "outputs": [],
   "source": [
    "# Calculate mean target values from the training set for both rougher and final stages\n",
    "constant_rougher_pred = np.full_like(y_rougher_test, y_rougher_train.mean())\n",
    "constant_final_pred = np.full_like(y_final_test, y_final_train.mean())\n",
    "\n",
    "# Calculate sMAPE for the constant model\n",
    "smape_rougher_constant = smape(y_rougher_test, constant_rougher_pred)\n",
    "smape_final_constant = smape(y_final_test, constant_final_pred)\n",
    "\n",
    "# Calculate the final sMAPE for the constant model\n",
    "final_smape_constant = final_smape(smape_rougher_constant, smape_final_constant)\n",
    "print(f\"Final sMAPE (Constant Model): {final_smape_constant}\")"
   ]
  },
  {
   "cell_type": "code",
   "execution_count": null,
   "metadata": {},
   "outputs": [],
   "source": [
    "print(f\"Final sMAPE (Best Model): {final_smape_best_model}\")\n",
    "print(f\"Final sMAPE (Constant Model): {final_smape_constant}\")\n",
    "\n",
    "if final_smape_best_model < final_smape_constant:\n",
    "    print(\"The trained model outperforms the constant model.\")\n",
    "else:\n",
    "    print(\"The constant model performs as well as or better than the trained model.\")\n"
   ]
  },
  {
   "cell_type": "markdown",
   "metadata": {},
   "source": [
    "<div class=\"alert alert-block alert-danger\">\n",
    "<b>Reviewer's comment V1</b> <a class=\"tocSkip\"></a>\n",
    "\n",
    "1. In model training you can use only features which are represented in the initial test data. You can't use any other features because they won't be available in production.\n",
    "2. You already have a test data from the corresponding file. Thus, you don't need to create additional test data.\n",
    "3. You need to try at least one more model.\n",
    "4. You need to tune hyperparameters at least for one model.\n",
    "5. You need to calculate metrics on test for the best model. To calculate metrics you need to know targets, right? You can find targets for the test data in the full data. You can use method merge and column date to extract these targets.\n",
    "6. You need to do sanity check. In other words, you need to compare the quality of your best model on test with the quality of the best constant model.\n",
    "  \n",
    "</div>"
   ]
  },
  {
   "cell_type": "markdown",
   "metadata": {},
   "source": [
    "<div class=\"alert alert-block alert-danger\">\n",
    "<b>Reviewer's comment V2</b> <a class=\"tocSkip\"></a>\n",
    "\n",
    "Well done! The last thing you didn't fix is the point number 2: \"You already have a test data from the corresponding file. Thus, you don't need to create additional test data.\". You still using test data from `train_test_split` function. But you should use test data from the corresponding file.\n",
    "    \n",
    "Also don't forget to update your conclusion below according to the new numbers.\n",
    "  \n",
    "</div>"
   ]
  },
  {
   "cell_type": "markdown",
   "metadata": {},
   "source": [
    "<div class=\"alert alert-block alert-success\">\n",
    "<b>Reviewer's comment V3</b> <a class=\"tocSkip\"></a>\n",
    "\n",
    "Everything looks correct now. Good job!\n",
    "  \n",
    "</div>"
   ]
  },
  {
   "cell_type": "markdown",
   "metadata": {},
   "source": [
    "###### Findings:\n",
    "The final sMAPE (Linear Regression) score of 8.484, is better then the constant model."
   ]
  },
  {
   "cell_type": "markdown",
   "metadata": {},
   "source": [
    "# Conclusion\n",
    "\n",
    "## Project Overview\n",
    "The objective of this project was to predict the efficiency of gold recovery processes based on a set of features. We specifically focused on two stages of the recovery process: the rougher stage and the final stage.\n",
    "\n",
    "To assess the accuracy of our predictions, we used the **Symmetric Mean Absolute Percentage Error (sMAPE)** as our evaluation metric. This metric was computed separately for both the rougher and final stages, and then combined into a final sMAPE score.\n",
    "\n",
    "## Model Performance\n",
    "The best model selected for this project was the **Linear Regression** model, which achieved a **final sMAPE score of 8.484**. Although higher than our initial target, this score reflects a reasonably accurate prediction for both the rougher and final gold recovery stages.\n",
    "\n",
    "### Key Findings:\n",
    "- The **Linear Regression** model outperformed other models (such as **Random Forest**) in this case, achieving a lower sMAPE score.\n",
    "- The model captures the relationship between the provided features and the gold recovery process with moderate accuracy.\n",
    "- The predictions for both the **rougher** and **final** stages showed reasonable accuracy, although there's room for improvement, as indicated by the sMAPE score of **8.484**.\n",
    "\n",
    "## Comparison with Baseline:\n",
    "- A **constant model**, which predicts the mean value for all instances, was used as a baseline.\n",
    "- The **constant model** achieved a significantly higher sMAPE score, demonstrating that the **Linear Regression** model provides much better predictions and is more suitable for forecasting gold recovery.\n",
    "\n",
    "## Recommendations:\n",
    "- While the **Linear Regression** model showed moderate accuracy, further improvement could be achieved by exploring more complex models or additional feature engineering.\n",
    "- Future work should focus on improving the model's performance, potentially by incorporating more advanced algorithms or fine-tuning model hyperparameters.\n",
    "\n",
    "## Conclusion:\n",
    "The **Linear Regression** model, with a final sMAPE score of **8.484**, was the best-performing model for this task. Although there is room for improvement, the model provides reasonable accuracy in predicting gold recovery processes. With further optimization, this model could serve as a valuable tool for improving decision-making and efficiency in gold recovery operations.\n"
   ]
  }
 ],
 "metadata": {
  "ExecuteTimeLog": [
   {
    "duration": 10,
    "start_time": "2024-09-23T14:43:25.445Z"
   },
   {
    "duration": 1482,
    "start_time": "2024-09-23T14:43:46.531Z"
   },
   {
    "duration": 78,
    "start_time": "2024-09-23T14:44:39.392Z"
   },
   {
    "duration": 19,
    "start_time": "2024-09-23T14:47:38.249Z"
   },
   {
    "duration": 1293,
    "start_time": "2024-09-23T14:49:24.277Z"
   },
   {
    "duration": 91,
    "start_time": "2024-09-23T14:49:25.573Z"
   },
   {
    "duration": 14,
    "start_time": "2024-09-23T14:49:25.666Z"
   },
   {
    "duration": 28,
    "start_time": "2024-09-23T14:52:34.681Z"
   },
   {
    "duration": 6,
    "start_time": "2024-09-23T14:56:13.270Z"
   },
   {
    "duration": 27,
    "start_time": "2024-09-23T14:57:11.502Z"
   },
   {
    "duration": 1319,
    "start_time": "2024-09-23T14:57:21.148Z"
   },
   {
    "duration": 86,
    "start_time": "2024-09-23T14:57:22.469Z"
   },
   {
    "duration": 13,
    "start_time": "2024-09-23T14:57:22.557Z"
   },
   {
    "duration": 22,
    "start_time": "2024-09-23T14:57:22.572Z"
   },
   {
    "duration": 18,
    "start_time": "2024-09-23T14:57:22.596Z"
   },
   {
    "duration": 1327,
    "start_time": "2024-09-23T15:00:58.807Z"
   },
   {
    "duration": 91,
    "start_time": "2024-09-23T15:01:00.136Z"
   },
   {
    "duration": 323,
    "start_time": "2024-09-23T15:01:00.229Z"
   },
   {
    "duration": 55,
    "start_time": "2024-09-23T15:01:08.586Z"
   },
   {
    "duration": 1332,
    "start_time": "2024-09-23T15:01:36.315Z"
   },
   {
    "duration": 334,
    "start_time": "2024-09-23T15:01:37.650Z"
   },
   {
    "duration": 3,
    "start_time": "2024-09-23T15:02:00.788Z"
   },
   {
    "duration": 66,
    "start_time": "2024-09-23T15:02:14.673Z"
   },
   {
    "duration": 3,
    "start_time": "2024-09-23T15:02:39.191Z"
   },
   {
    "duration": 695,
    "start_time": "2024-09-23T15:02:39.846Z"
   },
   {
    "duration": 2503,
    "start_time": "2024-09-23T15:04:19.095Z"
   },
   {
    "duration": 32,
    "start_time": "2024-09-23T15:12:28.494Z"
   },
   {
    "duration": 91,
    "start_time": "2024-09-23T15:12:56.072Z"
   },
   {
    "duration": 5,
    "start_time": "2024-09-23T15:14:09.990Z"
   },
   {
    "duration": 534,
    "start_time": "2024-09-23T15:14:58.918Z"
   },
   {
    "duration": 45,
    "start_time": "2024-09-23T15:15:40.710Z"
   },
   {
    "duration": 488,
    "start_time": "2024-09-23T15:16:58.591Z"
   },
   {
    "duration": 474,
    "start_time": "2024-09-23T15:17:38.527Z"
   },
   {
    "duration": 13,
    "start_time": "2024-09-23T15:22:17.889Z"
   },
   {
    "duration": 4,
    "start_time": "2024-09-23T15:22:22.899Z"
   },
   {
    "duration": 12,
    "start_time": "2024-09-23T15:22:43.749Z"
   },
   {
    "duration": 4,
    "start_time": "2024-09-23T15:22:49.408Z"
   },
   {
    "duration": 13,
    "start_time": "2024-09-23T15:23:18.174Z"
   },
   {
    "duration": 6,
    "start_time": "2024-09-23T15:23:22.275Z"
   },
   {
    "duration": 14,
    "start_time": "2024-09-23T15:24:23.767Z"
   },
   {
    "duration": 6,
    "start_time": "2024-09-23T15:24:32.628Z"
   },
   {
    "duration": 18,
    "start_time": "2024-09-23T15:24:43.611Z"
   },
   {
    "duration": 7,
    "start_time": "2024-09-23T15:24:48.939Z"
   },
   {
    "duration": 5,
    "start_time": "2024-09-23T15:32:27.356Z"
   },
   {
    "duration": 4,
    "start_time": "2024-09-23T15:32:38.578Z"
   },
   {
    "duration": 492,
    "start_time": "2024-09-23T15:36:16.981Z"
   },
   {
    "duration": 516,
    "start_time": "2024-09-23T15:36:20.912Z"
   },
   {
    "duration": 4,
    "start_time": "2024-09-23T15:46:11.109Z"
   },
   {
    "duration": 54,
    "start_time": "2024-09-23T15:49:08.623Z"
   },
   {
    "duration": 24,
    "start_time": "2024-09-23T15:52:03.741Z"
   },
   {
    "duration": 16,
    "start_time": "2024-09-23T15:52:19.282Z"
   },
   {
    "duration": 57,
    "start_time": "2024-09-23T15:52:30.966Z"
   },
   {
    "duration": 882,
    "start_time": "2024-09-23T15:52:44.747Z"
   },
   {
    "duration": 15,
    "start_time": "2024-09-23T15:52:45.631Z"
   },
   {
    "duration": 765,
    "start_time": "2024-09-23T15:52:45.650Z"
   },
   {
    "duration": 0,
    "start_time": "2024-09-23T15:52:46.418Z"
   },
   {
    "duration": 0,
    "start_time": "2024-09-23T15:52:46.419Z"
   },
   {
    "duration": 0,
    "start_time": "2024-09-23T15:52:46.421Z"
   },
   {
    "duration": 0,
    "start_time": "2024-09-23T15:52:46.422Z"
   },
   {
    "duration": 14,
    "start_time": "2024-09-23T15:55:02.426Z"
   },
   {
    "duration": 1261,
    "start_time": "2024-09-23T15:55:14.045Z"
   },
   {
    "duration": 523,
    "start_time": "2024-09-23T15:57:18.799Z"
   },
   {
    "duration": 514,
    "start_time": "2024-09-23T16:00:20.923Z"
   },
   {
    "duration": 484,
    "start_time": "2024-09-23T16:00:39.741Z"
   },
   {
    "duration": 3336,
    "start_time": "2024-09-23T17:58:42.585Z"
   },
   {
    "duration": 689,
    "start_time": "2024-09-23T17:59:40.397Z"
   },
   {
    "duration": 14,
    "start_time": "2024-09-23T18:03:16.391Z"
   },
   {
    "duration": 523,
    "start_time": "2024-09-23T18:03:56.825Z"
   },
   {
    "duration": 7,
    "start_time": "2024-09-23T18:04:01.792Z"
   },
   {
    "duration": 124,
    "start_time": "2024-09-23T18:04:59.387Z"
   },
   {
    "duration": 4,
    "start_time": "2024-09-23T18:05:46.293Z"
   },
   {
    "duration": 96,
    "start_time": "2024-09-23T18:06:13.535Z"
   },
   {
    "duration": 168,
    "start_time": "2024-09-23T18:07:04.217Z"
   },
   {
    "duration": 116,
    "start_time": "2024-09-23T18:10:00.279Z"
   },
   {
    "duration": 43,
    "start_time": "2024-09-23T18:10:15.905Z"
   },
   {
    "duration": 42,
    "start_time": "2024-09-23T18:10:29.035Z"
   },
   {
    "duration": 397,
    "start_time": "2024-09-23T18:11:25.496Z"
   },
   {
    "duration": 583,
    "start_time": "2024-09-23T18:12:32.281Z"
   },
   {
    "duration": 574,
    "start_time": "2024-09-23T18:17:17.201Z"
   },
   {
    "duration": 626,
    "start_time": "2024-09-23T18:18:30.869Z"
   },
   {
    "duration": 654,
    "start_time": "2024-09-23T18:19:30.435Z"
   },
   {
    "duration": 491,
    "start_time": "2024-09-23T18:20:08.875Z"
   },
   {
    "duration": 3,
    "start_time": "2024-09-23T18:23:20.138Z"
   },
   {
    "duration": 287,
    "start_time": "2024-09-23T18:23:42.293Z"
   },
   {
    "duration": 3,
    "start_time": "2024-09-23T18:24:32.178Z"
   },
   {
    "duration": 3,
    "start_time": "2024-09-23T18:25:46.816Z"
   },
   {
    "duration": 44,
    "start_time": "2024-09-23T18:26:01.784Z"
   },
   {
    "duration": 1519,
    "start_time": "2024-09-23T18:26:53.073Z"
   },
   {
    "duration": 7,
    "start_time": "2024-09-23T18:26:54.594Z"
   },
   {
    "duration": 364,
    "start_time": "2024-09-23T18:26:54.613Z"
   },
   {
    "duration": 0,
    "start_time": "2024-09-23T18:26:54.980Z"
   },
   {
    "duration": 0,
    "start_time": "2024-09-23T18:26:54.981Z"
   },
   {
    "duration": 0,
    "start_time": "2024-09-23T18:26:54.982Z"
   },
   {
    "duration": 0,
    "start_time": "2024-09-23T18:26:54.983Z"
   },
   {
    "duration": 0,
    "start_time": "2024-09-23T18:26:54.984Z"
   },
   {
    "duration": 0,
    "start_time": "2024-09-23T18:26:54.985Z"
   },
   {
    "duration": 0,
    "start_time": "2024-09-23T18:26:54.986Z"
   },
   {
    "duration": 0,
    "start_time": "2024-09-23T18:26:54.987Z"
   },
   {
    "duration": 55,
    "start_time": "2024-09-23T18:42:27.240Z"
   },
   {
    "duration": 5,
    "start_time": "2024-09-23T18:42:27.792Z"
   },
   {
    "duration": 94,
    "start_time": "2024-09-23T18:42:28.369Z"
   },
   {
    "duration": 24,
    "start_time": "2024-09-23T18:42:28.957Z"
   },
   {
    "duration": 580,
    "start_time": "2024-09-23T18:42:30.173Z"
   },
   {
    "duration": 490,
    "start_time": "2024-09-23T18:42:32.298Z"
   },
   {
    "duration": 3,
    "start_time": "2024-09-23T18:42:33.299Z"
   },
   {
    "duration": 792,
    "start_time": "2024-09-23T18:42:35.062Z"
   },
   {
    "duration": 4,
    "start_time": "2024-09-23T18:42:37.145Z"
   },
   {
    "duration": 25,
    "start_time": "2024-09-23T18:42:49.641Z"
   },
   {
    "duration": 470,
    "start_time": "2024-09-23T18:42:58.722Z"
   },
   {
    "duration": 529,
    "start_time": "2024-09-23T18:43:29.629Z"
   },
   {
    "duration": 573,
    "start_time": "2024-09-23T18:43:35.888Z"
   },
   {
    "duration": 159,
    "start_time": "2024-09-24T13:13:12.286Z"
   },
   {
    "duration": 15,
    "start_time": "2024-09-24T13:15:02.743Z"
   },
   {
    "duration": 3342,
    "start_time": "2024-09-24T13:15:58.682Z"
   },
   {
    "duration": 6,
    "start_time": "2024-09-24T13:16:02.026Z"
   },
   {
    "duration": 386,
    "start_time": "2024-09-24T13:16:02.034Z"
   },
   {
    "duration": 56,
    "start_time": "2024-09-24T13:27:09.540Z"
   },
   {
    "duration": 491,
    "start_time": "2024-09-24T13:27:52.081Z"
   },
   {
    "duration": 1450,
    "start_time": "2024-09-24T13:27:59.328Z"
   },
   {
    "duration": 704,
    "start_time": "2024-09-24T13:28:00.780Z"
   },
   {
    "duration": 0,
    "start_time": "2024-09-24T13:28:01.486Z"
   },
   {
    "duration": 24,
    "start_time": "2024-09-24T13:28:37.935Z"
   },
   {
    "duration": 347,
    "start_time": "2024-09-24T13:29:34.020Z"
   },
   {
    "duration": 7,
    "start_time": "2024-09-24T13:30:05.244Z"
   },
   {
    "duration": 16,
    "start_time": "2024-09-24T13:30:24.512Z"
   },
   {
    "duration": 27,
    "start_time": "2024-09-24T13:31:24.370Z"
   },
   {
    "duration": 22,
    "start_time": "2024-09-24T13:31:53.126Z"
   },
   {
    "duration": 24,
    "start_time": "2024-09-24T13:32:08.701Z"
   },
   {
    "duration": 6,
    "start_time": "2024-09-24T13:32:27.838Z"
   },
   {
    "duration": 3,
    "start_time": "2024-09-24T13:33:35.302Z"
   },
   {
    "duration": 425,
    "start_time": "2024-09-24T13:35:43.141Z"
   },
   {
    "duration": 429,
    "start_time": "2024-09-24T13:37:11.515Z"
   },
   {
    "duration": 389,
    "start_time": "2024-09-24T13:38:05.314Z"
   },
   {
    "duration": 399,
    "start_time": "2024-09-24T13:39:13.628Z"
   },
   {
    "duration": 2,
    "start_time": "2024-09-24T13:42:32.840Z"
   },
   {
    "duration": 999,
    "start_time": "2024-09-24T13:42:41.052Z"
   },
   {
    "duration": 747,
    "start_time": "2024-09-24T13:46:05.317Z"
   },
   {
    "duration": 510,
    "start_time": "2024-09-24T13:47:39.366Z"
   },
   {
    "duration": 3,
    "start_time": "2024-09-24T13:52:55.801Z"
   },
   {
    "duration": 3,
    "start_time": "2024-09-24T13:53:31.469Z"
   },
   {
    "duration": 151,
    "start_time": "2024-09-24T13:54:47.729Z"
   },
   {
    "duration": 4,
    "start_time": "2024-09-24T13:56:00.003Z"
   },
   {
    "duration": 17,
    "start_time": "2024-09-24T13:56:46.188Z"
   },
   {
    "duration": 1454,
    "start_time": "2024-09-24T13:57:35.634Z"
   },
   {
    "duration": 35,
    "start_time": "2024-09-24T13:57:37.091Z"
   },
   {
    "duration": 7,
    "start_time": "2024-09-24T13:57:37.128Z"
   },
   {
    "duration": 4,
    "start_time": "2024-09-24T13:57:37.136Z"
   },
   {
    "duration": 497,
    "start_time": "2024-09-24T13:57:37.143Z"
   },
   {
    "duration": 729,
    "start_time": "2024-09-24T13:57:37.643Z"
   },
   {
    "duration": 562,
    "start_time": "2024-09-24T13:57:38.374Z"
   },
   {
    "duration": 3,
    "start_time": "2024-09-24T13:57:38.938Z"
   },
   {
    "duration": 12,
    "start_time": "2024-09-24T13:57:38.943Z"
   },
   {
    "duration": 3,
    "start_time": "2024-09-24T13:57:38.957Z"
   },
   {
    "duration": 2,
    "start_time": "2024-09-24T13:59:24.535Z"
   },
   {
    "duration": 563,
    "start_time": "2024-09-24T14:00:36.070Z"
   },
   {
    "duration": 246,
    "start_time": "2024-09-24T14:00:52.863Z"
   },
   {
    "duration": 12,
    "start_time": "2024-09-24T14:02:27.230Z"
   },
   {
    "duration": 12,
    "start_time": "2024-09-24T14:03:03.767Z"
   },
   {
    "duration": 50,
    "start_time": "2024-09-24T14:03:55.296Z"
   },
   {
    "duration": 3,
    "start_time": "2024-09-24T14:03:58.101Z"
   },
   {
    "duration": 224,
    "start_time": "2024-09-24T14:03:58.900Z"
   },
   {
    "duration": 1419,
    "start_time": "2024-09-24T14:04:14.409Z"
   },
   {
    "duration": 30,
    "start_time": "2024-09-24T14:04:15.829Z"
   },
   {
    "duration": 6,
    "start_time": "2024-09-24T14:04:15.861Z"
   },
   {
    "duration": 3,
    "start_time": "2024-09-24T14:04:15.869Z"
   },
   {
    "duration": 458,
    "start_time": "2024-09-24T14:04:15.874Z"
   },
   {
    "duration": 735,
    "start_time": "2024-09-24T14:04:16.334Z"
   },
   {
    "duration": 527,
    "start_time": "2024-09-24T14:04:17.070Z"
   },
   {
    "duration": 3,
    "start_time": "2024-09-24T14:04:17.600Z"
   },
   {
    "duration": 320,
    "start_time": "2024-09-24T14:04:17.605Z"
   },
   {
    "duration": 0,
    "start_time": "2024-09-24T14:04:17.927Z"
   },
   {
    "duration": 0,
    "start_time": "2024-09-24T14:04:17.931Z"
   },
   {
    "duration": 51,
    "start_time": "2024-09-24T14:04:36.868Z"
   },
   {
    "duration": 1463,
    "start_time": "2024-09-24T14:04:44.310Z"
   },
   {
    "duration": 27,
    "start_time": "2024-09-24T14:04:45.776Z"
   },
   {
    "duration": 6,
    "start_time": "2024-09-24T14:04:45.805Z"
   },
   {
    "duration": 3,
    "start_time": "2024-09-24T14:04:45.824Z"
   },
   {
    "duration": 472,
    "start_time": "2024-09-24T14:04:45.828Z"
   },
   {
    "duration": 762,
    "start_time": "2024-09-24T14:04:46.302Z"
   },
   {
    "duration": 540,
    "start_time": "2024-09-24T14:04:47.066Z"
   },
   {
    "duration": 5,
    "start_time": "2024-09-24T14:04:47.608Z"
   },
   {
    "duration": 67,
    "start_time": "2024-09-24T14:04:47.614Z"
   },
   {
    "duration": 2,
    "start_time": "2024-09-24T14:04:47.683Z"
   },
   {
    "duration": 306,
    "start_time": "2024-09-24T14:04:47.687Z"
   },
   {
    "duration": 4,
    "start_time": "2024-09-24T14:07:35.252Z"
   },
   {
    "duration": 1481,
    "start_time": "2024-09-24T14:09:18.583Z"
   },
   {
    "duration": 28,
    "start_time": "2024-09-24T14:09:20.066Z"
   },
   {
    "duration": 6,
    "start_time": "2024-09-24T14:09:20.096Z"
   },
   {
    "duration": 3,
    "start_time": "2024-09-24T14:09:20.104Z"
   },
   {
    "duration": 492,
    "start_time": "2024-09-24T14:09:20.109Z"
   },
   {
    "duration": 672,
    "start_time": "2024-09-24T14:09:20.603Z"
   },
   {
    "duration": 514,
    "start_time": "2024-09-24T14:09:21.277Z"
   },
   {
    "duration": 3,
    "start_time": "2024-09-24T14:09:21.793Z"
   },
   {
    "duration": 29,
    "start_time": "2024-09-24T14:09:21.798Z"
   },
   {
    "duration": 3,
    "start_time": "2024-09-24T14:09:21.828Z"
   },
   {
    "duration": 318,
    "start_time": "2024-09-24T14:09:21.833Z"
   },
   {
    "duration": 71,
    "start_time": "2024-09-24T14:10:30.566Z"
   },
   {
    "duration": 63,
    "start_time": "2024-09-24T14:12:43.541Z"
   },
   {
    "duration": 1439,
    "start_time": "2024-09-24T14:12:54.442Z"
   },
   {
    "duration": 26,
    "start_time": "2024-09-24T14:12:55.884Z"
   },
   {
    "duration": 16,
    "start_time": "2024-09-24T14:12:55.912Z"
   },
   {
    "duration": 3,
    "start_time": "2024-09-24T14:12:55.930Z"
   },
   {
    "duration": 489,
    "start_time": "2024-09-24T14:12:55.935Z"
   },
   {
    "duration": 740,
    "start_time": "2024-09-24T14:12:56.426Z"
   },
   {
    "duration": 534,
    "start_time": "2024-09-24T14:12:57.168Z"
   },
   {
    "duration": 3,
    "start_time": "2024-09-24T14:12:57.704Z"
   },
   {
    "duration": 34,
    "start_time": "2024-09-24T14:12:57.709Z"
   },
   {
    "duration": 203,
    "start_time": "2024-09-24T14:12:57.744Z"
   },
   {
    "duration": 604,
    "start_time": "2024-09-24T14:13:26.496Z"
   },
   {
    "duration": 47,
    "start_time": "2024-09-24T14:15:09.711Z"
   },
   {
    "duration": 1493,
    "start_time": "2024-09-24T14:15:17.772Z"
   },
   {
    "duration": 27,
    "start_time": "2024-09-24T14:15:19.267Z"
   },
   {
    "duration": 6,
    "start_time": "2024-09-24T14:15:19.299Z"
   },
   {
    "duration": 17,
    "start_time": "2024-09-24T14:15:19.307Z"
   },
   {
    "duration": 479,
    "start_time": "2024-09-24T14:15:19.326Z"
   },
   {
    "duration": 731,
    "start_time": "2024-09-24T14:15:19.806Z"
   },
   {
    "duration": 543,
    "start_time": "2024-09-24T14:15:20.538Z"
   },
   {
    "duration": 3,
    "start_time": "2024-09-24T14:15:21.083Z"
   },
   {
    "duration": 18,
    "start_time": "2024-09-24T14:15:21.088Z"
   },
   {
    "duration": 208,
    "start_time": "2024-09-24T14:15:21.108Z"
   },
   {
    "duration": 1434,
    "start_time": "2024-09-24T14:15:33.282Z"
   },
   {
    "duration": 33,
    "start_time": "2024-09-24T14:15:34.718Z"
   },
   {
    "duration": 6,
    "start_time": "2024-09-24T14:15:34.753Z"
   },
   {
    "duration": 3,
    "start_time": "2024-09-24T14:15:34.760Z"
   },
   {
    "duration": 468,
    "start_time": "2024-09-24T14:15:34.765Z"
   },
   {
    "duration": 732,
    "start_time": "2024-09-24T14:15:35.234Z"
   },
   {
    "duration": 521,
    "start_time": "2024-09-24T14:15:35.968Z"
   },
   {
    "duration": 3,
    "start_time": "2024-09-24T14:15:36.491Z"
   },
   {
    "duration": 28,
    "start_time": "2024-09-24T14:15:36.496Z"
   },
   {
    "duration": 187,
    "start_time": "2024-09-24T14:15:36.526Z"
   },
   {
    "duration": 60,
    "start_time": "2024-09-24T14:16:34.398Z"
   },
   {
    "duration": 1426,
    "start_time": "2024-09-24T14:16:56.199Z"
   },
   {
    "duration": 28,
    "start_time": "2024-09-24T14:16:57.628Z"
   },
   {
    "duration": 6,
    "start_time": "2024-09-24T14:16:57.658Z"
   },
   {
    "duration": 3,
    "start_time": "2024-09-24T14:16:57.666Z"
   },
   {
    "duration": 465,
    "start_time": "2024-09-24T14:16:57.672Z"
   },
   {
    "duration": 716,
    "start_time": "2024-09-24T14:16:58.138Z"
   },
   {
    "duration": 534,
    "start_time": "2024-09-24T14:16:58.856Z"
   },
   {
    "duration": 3,
    "start_time": "2024-09-24T14:16:59.392Z"
   },
   {
    "duration": 28,
    "start_time": "2024-09-24T14:16:59.396Z"
   },
   {
    "duration": 185,
    "start_time": "2024-09-24T14:16:59.426Z"
   },
   {
    "duration": 162,
    "start_time": "2024-09-24T16:13:42.477Z"
   },
   {
    "duration": 3274,
    "start_time": "2024-09-24T16:13:53.368Z"
   },
   {
    "duration": 27,
    "start_time": "2024-09-24T16:13:56.644Z"
   },
   {
    "duration": 6,
    "start_time": "2024-09-24T16:13:56.673Z"
   },
   {
    "duration": 3,
    "start_time": "2024-09-24T16:13:56.681Z"
   },
   {
    "duration": 543,
    "start_time": "2024-09-24T16:13:56.686Z"
   },
   {
    "duration": 716,
    "start_time": "2024-09-24T16:13:57.231Z"
   },
   {
    "duration": 533,
    "start_time": "2024-09-24T16:13:57.949Z"
   },
   {
    "duration": 4,
    "start_time": "2024-09-24T16:13:58.483Z"
   },
   {
    "duration": 32,
    "start_time": "2024-09-24T16:13:58.489Z"
   },
   {
    "duration": 195,
    "start_time": "2024-09-24T16:13:58.523Z"
   },
   {
    "duration": 1563,
    "start_time": "2024-09-24T16:14:50.552Z"
   },
   {
    "duration": 27,
    "start_time": "2024-09-24T16:14:52.117Z"
   },
   {
    "duration": 7,
    "start_time": "2024-09-24T16:14:52.146Z"
   },
   {
    "duration": 4,
    "start_time": "2024-09-24T16:14:52.154Z"
   },
   {
    "duration": 469,
    "start_time": "2024-09-24T16:14:52.160Z"
   },
   {
    "duration": 728,
    "start_time": "2024-09-24T16:14:52.631Z"
   },
   {
    "duration": 541,
    "start_time": "2024-09-24T16:14:53.362Z"
   },
   {
    "duration": 10,
    "start_time": "2024-09-24T16:14:53.905Z"
   },
   {
    "duration": 12,
    "start_time": "2024-09-24T16:14:53.918Z"
   },
   {
    "duration": 1566,
    "start_time": "2024-09-24T16:15:59.720Z"
   },
   {
    "duration": 41,
    "start_time": "2024-09-24T16:16:01.288Z"
   },
   {
    "duration": 6,
    "start_time": "2024-09-24T16:16:01.332Z"
   },
   {
    "duration": 3,
    "start_time": "2024-09-24T16:16:01.340Z"
   },
   {
    "duration": 461,
    "start_time": "2024-09-24T16:16:01.345Z"
   },
   {
    "duration": 745,
    "start_time": "2024-09-24T16:16:01.808Z"
   },
   {
    "duration": 528,
    "start_time": "2024-09-24T16:16:02.555Z"
   },
   {
    "duration": 11,
    "start_time": "2024-09-24T16:16:03.085Z"
   },
   {
    "duration": 22,
    "start_time": "2024-09-24T16:16:03.097Z"
   },
   {
    "duration": 87615,
    "start_time": "2024-09-24T16:16:03.120Z"
   },
   {
    "duration": 4,
    "start_time": "2024-09-24T16:17:30.736Z"
   },
   {
    "duration": 162,
    "start_time": "2024-09-25T13:00:57.119Z"
   },
   {
    "duration": 3373,
    "start_time": "2024-09-25T13:01:32.254Z"
   },
   {
    "duration": 30,
    "start_time": "2024-09-25T13:01:35.630Z"
   },
   {
    "duration": 7,
    "start_time": "2024-09-25T13:01:35.661Z"
   },
   {
    "duration": 3,
    "start_time": "2024-09-25T13:01:35.669Z"
   },
   {
    "duration": 537,
    "start_time": "2024-09-25T13:01:35.676Z"
   },
   {
    "duration": 738,
    "start_time": "2024-09-25T13:01:36.215Z"
   },
   {
    "duration": 638,
    "start_time": "2024-09-25T13:01:36.955Z"
   },
   {
    "duration": 0,
    "start_time": "2024-09-25T13:01:37.595Z"
   },
   {
    "duration": 0,
    "start_time": "2024-09-25T13:01:37.604Z"
   },
   {
    "duration": 0,
    "start_time": "2024-09-25T13:01:37.605Z"
   },
   {
    "duration": 0,
    "start_time": "2024-09-25T13:01:37.606Z"
   },
   {
    "duration": 59,
    "start_time": "2024-09-25T13:02:38.886Z"
   },
   {
    "duration": 524,
    "start_time": "2024-09-25T13:05:04.432Z"
   },
   {
    "duration": 652,
    "start_time": "2024-09-25T13:05:12.283Z"
   },
   {
    "duration": 1545,
    "start_time": "2024-09-25T13:15:11.669Z"
   },
   {
    "duration": 28,
    "start_time": "2024-09-25T13:15:13.217Z"
   },
   {
    "duration": 6,
    "start_time": "2024-09-25T13:15:13.249Z"
   },
   {
    "duration": 2,
    "start_time": "2024-09-25T13:15:13.258Z"
   },
   {
    "duration": 459,
    "start_time": "2024-09-25T13:15:13.262Z"
   },
   {
    "duration": 724,
    "start_time": "2024-09-25T13:15:13.723Z"
   },
   {
    "duration": 524,
    "start_time": "2024-09-25T13:15:14.449Z"
   },
   {
    "duration": 8,
    "start_time": "2024-09-25T13:15:14.975Z"
   },
   {
    "duration": 26,
    "start_time": "2024-09-25T13:15:14.984Z"
   },
   {
    "duration": 87313,
    "start_time": "2024-09-25T13:15:15.012Z"
   },
   {
    "duration": 3,
    "start_time": "2024-09-25T13:16:42.327Z"
   },
   {
    "duration": 10,
    "start_time": "2024-09-25T13:18:19.149Z"
   },
   {
    "duration": 1450,
    "start_time": "2024-09-25T13:18:29.961Z"
   },
   {
    "duration": 29,
    "start_time": "2024-09-25T13:18:31.414Z"
   },
   {
    "duration": 6,
    "start_time": "2024-09-25T13:18:31.445Z"
   },
   {
    "duration": 4,
    "start_time": "2024-09-25T13:18:31.452Z"
   },
   {
    "duration": 459,
    "start_time": "2024-09-25T13:18:31.458Z"
   },
   {
    "duration": 733,
    "start_time": "2024-09-25T13:18:31.919Z"
   },
   {
    "duration": 569,
    "start_time": "2024-09-25T13:18:32.654Z"
   },
   {
    "duration": 3,
    "start_time": "2024-09-25T13:18:33.225Z"
   },
   {
    "duration": 15,
    "start_time": "2024-09-25T13:18:33.230Z"
   },
   {
    "duration": 187,
    "start_time": "2024-09-25T13:18:33.247Z"
   },
   {
    "duration": 0,
    "start_time": "2024-09-25T13:18:33.436Z"
   },
   {
    "duration": 1532,
    "start_time": "2024-09-25T13:19:27.532Z"
   },
   {
    "duration": 44,
    "start_time": "2024-09-25T13:19:29.067Z"
   },
   {
    "duration": 6,
    "start_time": "2024-09-25T13:19:29.113Z"
   },
   {
    "duration": 3,
    "start_time": "2024-09-25T13:19:29.122Z"
   },
   {
    "duration": 499,
    "start_time": "2024-09-25T13:19:29.126Z"
   },
   {
    "duration": 720,
    "start_time": "2024-09-25T13:19:29.628Z"
   },
   {
    "duration": 518,
    "start_time": "2024-09-25T13:19:30.350Z"
   },
   {
    "duration": 3,
    "start_time": "2024-09-25T13:19:30.870Z"
   },
   {
    "duration": 13,
    "start_time": "2024-09-25T13:19:30.875Z"
   },
   {
    "duration": 71488,
    "start_time": "2024-09-25T13:19:30.890Z"
   },
   {
    "duration": 3,
    "start_time": "2024-09-25T13:20:42.380Z"
   },
   {
    "duration": 1774,
    "start_time": "2024-09-25T13:22:34.036Z"
   },
   {
    "duration": 32,
    "start_time": "2024-09-25T13:22:35.812Z"
   },
   {
    "duration": 10,
    "start_time": "2024-09-25T13:22:35.846Z"
   },
   {
    "duration": 4,
    "start_time": "2024-09-25T13:22:35.858Z"
   },
   {
    "duration": 560,
    "start_time": "2024-09-25T13:22:35.865Z"
   },
   {
    "duration": 722,
    "start_time": "2024-09-25T13:22:36.428Z"
   },
   {
    "duration": 625,
    "start_time": "2024-09-25T13:22:37.153Z"
   },
   {
    "duration": 5,
    "start_time": "2024-09-25T13:22:37.781Z"
   },
   {
    "duration": 25,
    "start_time": "2024-09-25T13:22:37.789Z"
   },
   {
    "duration": 4,
    "start_time": "2024-09-25T13:23:49.941Z"
   },
   {
    "duration": 1683,
    "start_time": "2024-09-25T13:24:37.944Z"
   },
   {
    "duration": 39,
    "start_time": "2024-09-25T13:24:39.630Z"
   },
   {
    "duration": 10,
    "start_time": "2024-09-25T13:24:39.671Z"
   },
   {
    "duration": 21,
    "start_time": "2024-09-25T13:24:39.685Z"
   },
   {
    "duration": 513,
    "start_time": "2024-09-25T13:24:39.708Z"
   },
   {
    "duration": 734,
    "start_time": "2024-09-25T13:24:40.223Z"
   },
   {
    "duration": 590,
    "start_time": "2024-09-25T13:24:40.959Z"
   },
   {
    "duration": 4,
    "start_time": "2024-09-25T13:24:41.551Z"
   },
   {
    "duration": 26,
    "start_time": "2024-09-25T13:24:41.558Z"
   },
   {
    "duration": 1789,
    "start_time": "2024-09-25T13:26:10.033Z"
   },
   {
    "duration": 46,
    "start_time": "2024-09-25T13:26:11.824Z"
   },
   {
    "duration": 8,
    "start_time": "2024-09-25T13:26:11.873Z"
   },
   {
    "duration": 3,
    "start_time": "2024-09-25T13:26:11.883Z"
   },
   {
    "duration": 525,
    "start_time": "2024-09-25T13:26:11.906Z"
   },
   {
    "duration": 725,
    "start_time": "2024-09-25T13:26:12.434Z"
   },
   {
    "duration": 623,
    "start_time": "2024-09-25T13:26:13.161Z"
   },
   {
    "duration": 5,
    "start_time": "2024-09-25T13:26:13.786Z"
   },
   {
    "duration": 22,
    "start_time": "2024-09-25T13:26:13.792Z"
   },
   {
    "duration": 1770,
    "start_time": "2024-09-25T13:30:21.392Z"
   },
   {
    "duration": 43,
    "start_time": "2024-09-25T13:30:23.165Z"
   },
   {
    "duration": 7,
    "start_time": "2024-09-25T13:30:23.210Z"
   },
   {
    "duration": 3,
    "start_time": "2024-09-25T13:30:23.219Z"
   },
   {
    "duration": 529,
    "start_time": "2024-09-25T13:30:23.225Z"
   },
   {
    "duration": 691,
    "start_time": "2024-09-25T13:30:23.757Z"
   },
   {
    "duration": 635,
    "start_time": "2024-09-25T13:30:24.451Z"
   },
   {
    "duration": 5,
    "start_time": "2024-09-25T13:30:25.088Z"
   },
   {
    "duration": 20,
    "start_time": "2024-09-25T13:30:25.096Z"
   },
   {
    "duration": 1574,
    "start_time": "2024-09-25T13:31:01.739Z"
   },
   {
    "duration": 29,
    "start_time": "2024-09-25T13:31:03.316Z"
   },
   {
    "duration": 6,
    "start_time": "2024-09-25T13:31:03.346Z"
   },
   {
    "duration": 3,
    "start_time": "2024-09-25T13:31:03.354Z"
   },
   {
    "duration": 451,
    "start_time": "2024-09-25T13:31:03.359Z"
   },
   {
    "duration": 736,
    "start_time": "2024-09-25T13:31:03.812Z"
   },
   {
    "duration": 515,
    "start_time": "2024-09-25T13:31:04.550Z"
   },
   {
    "duration": 3,
    "start_time": "2024-09-25T13:31:05.067Z"
   },
   {
    "duration": 13,
    "start_time": "2024-09-25T13:31:05.072Z"
   },
   {
    "duration": 1517,
    "start_time": "2024-09-25T13:31:53.772Z"
   },
   {
    "duration": 35,
    "start_time": "2024-09-25T13:31:55.291Z"
   },
   {
    "duration": 6,
    "start_time": "2024-09-25T13:31:55.330Z"
   },
   {
    "duration": 2,
    "start_time": "2024-09-25T13:31:55.339Z"
   },
   {
    "duration": 466,
    "start_time": "2024-09-25T13:31:55.343Z"
   },
   {
    "duration": 737,
    "start_time": "2024-09-25T13:31:55.811Z"
   },
   {
    "duration": 531,
    "start_time": "2024-09-25T13:31:56.550Z"
   },
   {
    "duration": 4,
    "start_time": "2024-09-25T13:31:57.082Z"
   },
   {
    "duration": 25,
    "start_time": "2024-09-25T13:31:57.088Z"
   },
   {
    "duration": 1594,
    "start_time": "2024-09-25T13:39:59.413Z"
   },
   {
    "duration": 33,
    "start_time": "2024-09-25T13:40:01.010Z"
   },
   {
    "duration": 6,
    "start_time": "2024-09-25T13:40:01.045Z"
   },
   {
    "duration": 3,
    "start_time": "2024-09-25T13:40:01.053Z"
   },
   {
    "duration": 463,
    "start_time": "2024-09-25T13:40:01.058Z"
   },
   {
    "duration": 724,
    "start_time": "2024-09-25T13:40:01.523Z"
   },
   {
    "duration": 523,
    "start_time": "2024-09-25T13:40:02.249Z"
   },
   {
    "duration": 3,
    "start_time": "2024-09-25T13:40:02.774Z"
   },
   {
    "duration": 26,
    "start_time": "2024-09-25T13:40:02.779Z"
   },
   {
    "duration": 1555,
    "start_time": "2024-09-25T13:43:47.189Z"
   },
   {
    "duration": 30,
    "start_time": "2024-09-25T13:43:48.747Z"
   },
   {
    "duration": 6,
    "start_time": "2024-09-25T13:43:48.778Z"
   },
   {
    "duration": 4,
    "start_time": "2024-09-25T13:43:48.806Z"
   },
   {
    "duration": 501,
    "start_time": "2024-09-25T13:43:48.813Z"
   },
   {
    "duration": 724,
    "start_time": "2024-09-25T13:43:49.315Z"
   },
   {
    "duration": 513,
    "start_time": "2024-09-25T13:43:50.041Z"
   },
   {
    "duration": 4,
    "start_time": "2024-09-25T13:43:50.556Z"
   },
   {
    "duration": 14,
    "start_time": "2024-09-25T13:43:50.562Z"
   },
   {
    "duration": 1508,
    "start_time": "2024-09-25T13:45:14.351Z"
   },
   {
    "duration": 28,
    "start_time": "2024-09-25T13:45:15.861Z"
   },
   {
    "duration": 18,
    "start_time": "2024-09-25T13:45:15.891Z"
   },
   {
    "duration": 3,
    "start_time": "2024-09-25T13:45:15.911Z"
   },
   {
    "duration": 493,
    "start_time": "2024-09-25T13:45:15.916Z"
   },
   {
    "duration": 729,
    "start_time": "2024-09-25T13:45:16.411Z"
   },
   {
    "duration": 509,
    "start_time": "2024-09-25T13:45:17.142Z"
   },
   {
    "duration": 3,
    "start_time": "2024-09-25T13:45:17.652Z"
   },
   {
    "duration": 14,
    "start_time": "2024-09-25T13:45:17.657Z"
   },
   {
    "duration": 1523,
    "start_time": "2024-09-25T13:47:15.036Z"
   },
   {
    "duration": 28,
    "start_time": "2024-09-25T13:47:16.562Z"
   },
   {
    "duration": 16,
    "start_time": "2024-09-25T13:47:16.592Z"
   },
   {
    "duration": 4,
    "start_time": "2024-09-25T13:47:16.609Z"
   },
   {
    "duration": 485,
    "start_time": "2024-09-25T13:47:16.616Z"
   },
   {
    "duration": 740,
    "start_time": "2024-09-25T13:47:17.103Z"
   },
   {
    "duration": 518,
    "start_time": "2024-09-25T13:47:17.845Z"
   },
   {
    "duration": 3,
    "start_time": "2024-09-25T13:47:18.365Z"
   },
   {
    "duration": 19,
    "start_time": "2024-09-25T13:47:18.370Z"
   },
   {
    "duration": 1722,
    "start_time": "2024-09-25T13:48:01.416Z"
   },
   {
    "duration": 30,
    "start_time": "2024-09-25T13:48:03.141Z"
   },
   {
    "duration": 6,
    "start_time": "2024-09-25T13:48:03.173Z"
   },
   {
    "duration": 3,
    "start_time": "2024-09-25T13:48:03.181Z"
   },
   {
    "duration": 522,
    "start_time": "2024-09-25T13:48:03.204Z"
   },
   {
    "duration": 724,
    "start_time": "2024-09-25T13:48:03.728Z"
   },
   {
    "duration": 554,
    "start_time": "2024-09-25T13:48:04.454Z"
   },
   {
    "duration": 4,
    "start_time": "2024-09-25T13:48:05.009Z"
   },
   {
    "duration": 15,
    "start_time": "2024-09-25T13:48:05.014Z"
   },
   {
    "duration": 1504,
    "start_time": "2024-09-25T13:49:34.405Z"
   },
   {
    "duration": 28,
    "start_time": "2024-09-25T13:49:35.911Z"
   },
   {
    "duration": 6,
    "start_time": "2024-09-25T13:49:35.941Z"
   },
   {
    "duration": 3,
    "start_time": "2024-09-25T13:49:35.948Z"
   },
   {
    "duration": 467,
    "start_time": "2024-09-25T13:49:35.954Z"
   },
   {
    "duration": 730,
    "start_time": "2024-09-25T13:49:36.423Z"
   },
   {
    "duration": 537,
    "start_time": "2024-09-25T13:49:37.155Z"
   },
   {
    "duration": 3,
    "start_time": "2024-09-25T13:49:37.695Z"
   },
   {
    "duration": 15,
    "start_time": "2024-09-25T13:49:37.705Z"
   },
   {
    "duration": 19820,
    "start_time": "2024-09-25T13:49:37.722Z"
   },
   {
    "duration": 163,
    "start_time": "2024-09-25T13:49:57.544Z"
   },
   {
    "duration": 1629,
    "start_time": "2024-09-25T13:51:51.711Z"
   },
   {
    "duration": 29,
    "start_time": "2024-09-25T13:51:53.342Z"
   },
   {
    "duration": 6,
    "start_time": "2024-09-25T13:51:53.374Z"
   },
   {
    "duration": 3,
    "start_time": "2024-09-25T13:51:53.382Z"
   },
   {
    "duration": 495,
    "start_time": "2024-09-25T13:51:53.407Z"
   },
   {
    "duration": 746,
    "start_time": "2024-09-25T13:51:53.904Z"
   },
   {
    "duration": 582,
    "start_time": "2024-09-25T13:51:54.651Z"
   },
   {
    "duration": 4,
    "start_time": "2024-09-25T13:51:55.235Z"
   },
   {
    "duration": 15,
    "start_time": "2024-09-25T13:51:55.240Z"
   },
   {
    "duration": 1592,
    "start_time": "2024-09-25T13:52:28.506Z"
   },
   {
    "duration": 29,
    "start_time": "2024-09-25T13:52:30.100Z"
   },
   {
    "duration": 7,
    "start_time": "2024-09-25T13:52:30.131Z"
   },
   {
    "duration": 3,
    "start_time": "2024-09-25T13:52:30.141Z"
   },
   {
    "duration": 493,
    "start_time": "2024-09-25T13:52:30.145Z"
   },
   {
    "duration": 709,
    "start_time": "2024-09-25T13:52:30.639Z"
   },
   {
    "duration": 545,
    "start_time": "2024-09-25T13:52:31.350Z"
   },
   {
    "duration": 3,
    "start_time": "2024-09-25T13:52:31.897Z"
   },
   {
    "duration": 21,
    "start_time": "2024-09-25T13:52:31.901Z"
   },
   {
    "duration": 1523,
    "start_time": "2024-09-25T13:54:26.476Z"
   },
   {
    "duration": 29,
    "start_time": "2024-09-25T13:54:28.002Z"
   },
   {
    "duration": 6,
    "start_time": "2024-09-25T13:54:28.037Z"
   },
   {
    "duration": 3,
    "start_time": "2024-09-25T13:54:28.045Z"
   },
   {
    "duration": 464,
    "start_time": "2024-09-25T13:54:28.049Z"
   },
   {
    "duration": 737,
    "start_time": "2024-09-25T13:54:28.516Z"
   },
   {
    "duration": 536,
    "start_time": "2024-09-25T13:54:29.255Z"
   },
   {
    "duration": 3,
    "start_time": "2024-09-25T13:54:29.793Z"
   },
   {
    "duration": 15,
    "start_time": "2024-09-25T13:54:29.805Z"
   },
   {
    "duration": 19871,
    "start_time": "2024-09-25T13:54:29.822Z"
   },
   {
    "duration": 126,
    "start_time": "2024-09-25T13:54:49.695Z"
   },
   {
    "duration": 19849,
    "start_time": "2024-09-25T13:55:16.390Z"
   },
   {
    "duration": 19812,
    "start_time": "2024-09-25T13:55:43.371Z"
   },
   {
    "duration": 167,
    "start_time": "2024-09-25T13:56:14.645Z"
   },
   {
    "duration": 1626,
    "start_time": "2024-09-25T13:57:54.818Z"
   },
   {
    "duration": 28,
    "start_time": "2024-09-25T13:57:56.446Z"
   },
   {
    "duration": 29,
    "start_time": "2024-09-25T13:57:56.478Z"
   },
   {
    "duration": 3,
    "start_time": "2024-09-25T13:57:56.510Z"
   },
   {
    "duration": 487,
    "start_time": "2024-09-25T13:57:56.515Z"
   },
   {
    "duration": 737,
    "start_time": "2024-09-25T13:57:57.004Z"
   },
   {
    "duration": 524,
    "start_time": "2024-09-25T13:57:57.743Z"
   },
   {
    "duration": 4,
    "start_time": "2024-09-25T13:57:58.269Z"
   },
   {
    "duration": 15,
    "start_time": "2024-09-25T13:57:58.274Z"
   },
   {
    "duration": 34211,
    "start_time": "2024-09-25T13:57:58.305Z"
   },
   {
    "duration": 186,
    "start_time": "2024-09-25T13:58:32.518Z"
   },
   {
    "duration": 18,
    "start_time": "2024-09-25T14:00:53.805Z"
   },
   {
    "duration": 1549,
    "start_time": "2024-09-25T14:01:23.579Z"
   },
   {
    "duration": 28,
    "start_time": "2024-09-25T14:01:25.130Z"
   },
   {
    "duration": 6,
    "start_time": "2024-09-25T14:01:25.160Z"
   },
   {
    "duration": 3,
    "start_time": "2024-09-25T14:01:25.169Z"
   },
   {
    "duration": 472,
    "start_time": "2024-09-25T14:01:25.173Z"
   },
   {
    "duration": 695,
    "start_time": "2024-09-25T14:01:25.647Z"
   },
   {
    "duration": 526,
    "start_time": "2024-09-25T14:01:26.344Z"
   },
   {
    "duration": 4,
    "start_time": "2024-09-25T14:01:26.872Z"
   },
   {
    "duration": 31,
    "start_time": "2024-09-25T14:01:26.878Z"
   },
   {
    "duration": 13,
    "start_time": "2024-09-25T14:01:26.911Z"
   },
   {
    "duration": 34302,
    "start_time": "2024-09-25T14:01:26.925Z"
   },
   {
    "duration": 88,
    "start_time": "2024-09-25T14:02:01.229Z"
   },
   {
    "duration": 1543,
    "start_time": "2024-09-25T14:02:04.471Z"
   },
   {
    "duration": 29,
    "start_time": "2024-09-25T14:02:06.016Z"
   },
   {
    "duration": 6,
    "start_time": "2024-09-25T14:02:06.047Z"
   },
   {
    "duration": 3,
    "start_time": "2024-09-25T14:02:06.055Z"
   },
   {
    "duration": 476,
    "start_time": "2024-09-25T14:02:06.061Z"
   },
   {
    "duration": 708,
    "start_time": "2024-09-25T14:02:06.539Z"
   },
   {
    "duration": 524,
    "start_time": "2024-09-25T14:02:07.248Z"
   },
   {
    "duration": 5,
    "start_time": "2024-09-25T14:02:07.774Z"
   },
   {
    "duration": 24,
    "start_time": "2024-09-25T14:02:07.781Z"
   },
   {
    "duration": 15,
    "start_time": "2024-09-25T14:02:07.807Z"
   },
   {
    "duration": 227,
    "start_time": "2024-09-25T14:02:07.823Z"
   },
   {
    "duration": 0,
    "start_time": "2024-09-25T14:02:08.052Z"
   },
   {
    "duration": 1540,
    "start_time": "2024-09-25T14:03:34.683Z"
   },
   {
    "duration": 28,
    "start_time": "2024-09-25T14:03:36.226Z"
   },
   {
    "duration": 5,
    "start_time": "2024-09-25T14:03:36.257Z"
   },
   {
    "duration": 2,
    "start_time": "2024-09-25T14:03:36.264Z"
   },
   {
    "duration": 472,
    "start_time": "2024-09-25T14:03:36.269Z"
   },
   {
    "duration": 705,
    "start_time": "2024-09-25T14:03:36.743Z"
   },
   {
    "duration": 544,
    "start_time": "2024-09-25T14:03:37.451Z"
   },
   {
    "duration": 3,
    "start_time": "2024-09-25T14:03:38.005Z"
   },
   {
    "duration": 16,
    "start_time": "2024-09-25T14:03:38.012Z"
   },
   {
    "duration": 16,
    "start_time": "2024-09-25T14:03:38.030Z"
   },
   {
    "duration": 34312,
    "start_time": "2024-09-25T14:03:38.048Z"
   },
   {
    "duration": 159,
    "start_time": "2024-09-25T14:04:12.363Z"
   },
   {
    "duration": 6,
    "start_time": "2024-09-25T14:05:36.706Z"
   },
   {
    "duration": 313,
    "start_time": "2024-09-25T14:05:48.668Z"
   },
   {
    "duration": 15,
    "start_time": "2024-09-25T14:06:42.189Z"
   },
   {
    "duration": 4,
    "start_time": "2024-09-25T14:06:49.521Z"
   },
   {
    "duration": 1634,
    "start_time": "2024-09-25T14:10:35.092Z"
   },
   {
    "duration": 28,
    "start_time": "2024-09-25T14:10:36.728Z"
   },
   {
    "duration": 6,
    "start_time": "2024-09-25T14:10:36.758Z"
   },
   {
    "duration": 3,
    "start_time": "2024-09-25T14:10:36.766Z"
   },
   {
    "duration": 497,
    "start_time": "2024-09-25T14:10:36.772Z"
   },
   {
    "duration": 683,
    "start_time": "2024-09-25T14:10:37.271Z"
   },
   {
    "duration": 564,
    "start_time": "2024-09-25T14:10:37.956Z"
   },
   {
    "duration": 4,
    "start_time": "2024-09-25T14:10:38.521Z"
   },
   {
    "duration": 17,
    "start_time": "2024-09-25T14:10:38.527Z"
   },
   {
    "duration": 19,
    "start_time": "2024-09-25T14:10:38.545Z"
   },
   {
    "duration": 34639,
    "start_time": "2024-09-25T14:10:38.566Z"
   },
   {
    "duration": 122,
    "start_time": "2024-09-25T14:11:13.207Z"
   },
   {
    "duration": 11,
    "start_time": "2024-09-25T14:11:13.414Z"
   },
   {
    "duration": 4,
    "start_time": "2024-09-25T14:11:13.427Z"
   },
   {
    "duration": 3,
    "start_time": "2024-09-25T14:11:33.379Z"
   },
   {
    "duration": 3,
    "start_time": "2024-09-25T14:11:45.109Z"
   },
   {
    "duration": 6,
    "start_time": "2024-09-25T14:13:03.720Z"
   },
   {
    "duration": 35,
    "start_time": "2024-09-25T14:13:08.678Z"
   },
   {
    "duration": 71,
    "start_time": "2024-09-25T14:13:26.854Z"
   },
   {
    "duration": 107,
    "start_time": "2024-09-25T14:14:29.301Z"
   },
   {
    "duration": 89,
    "start_time": "2024-09-25T14:15:33.037Z"
   },
   {
    "duration": 6,
    "start_time": "2024-09-25T14:15:42.489Z"
   },
   {
    "duration": 3,
    "start_time": "2024-09-25T14:15:43.027Z"
   },
   {
    "duration": 1532,
    "start_time": "2024-09-26T12:39:36.857Z"
   },
   {
    "duration": 26,
    "start_time": "2024-09-26T12:39:38.391Z"
   },
   {
    "duration": 14,
    "start_time": "2024-09-26T12:39:38.419Z"
   },
   {
    "duration": 3,
    "start_time": "2024-09-26T12:39:38.436Z"
   },
   {
    "duration": 487,
    "start_time": "2024-09-26T12:39:38.441Z"
   },
   {
    "duration": 737,
    "start_time": "2024-09-26T12:39:38.929Z"
   },
   {
    "duration": 523,
    "start_time": "2024-09-26T12:39:39.668Z"
   },
   {
    "duration": 3,
    "start_time": "2024-09-26T12:39:40.193Z"
   },
   {
    "duration": 16,
    "start_time": "2024-09-26T12:39:40.197Z"
   },
   {
    "duration": 26,
    "start_time": "2024-09-26T12:39:40.215Z"
   },
   {
    "duration": 34125,
    "start_time": "2024-09-26T12:39:40.242Z"
   },
   {
    "duration": 72,
    "start_time": "2024-09-26T12:40:14.369Z"
   },
   {
    "duration": 8,
    "start_time": "2024-09-26T12:40:14.443Z"
   },
   {
    "duration": 5,
    "start_time": "2024-09-26T12:40:14.530Z"
   },
   {
    "duration": 1521,
    "start_time": "2024-09-26T12:43:29.270Z"
   },
   {
    "duration": 28,
    "start_time": "2024-09-26T12:43:30.793Z"
   },
   {
    "duration": 6,
    "start_time": "2024-09-26T12:43:30.831Z"
   },
   {
    "duration": 3,
    "start_time": "2024-09-26T12:43:30.839Z"
   },
   {
    "duration": 491,
    "start_time": "2024-09-26T12:43:30.845Z"
   },
   {
    "duration": 742,
    "start_time": "2024-09-26T12:43:31.338Z"
   },
   {
    "duration": 523,
    "start_time": "2024-09-26T12:43:32.082Z"
   },
   {
    "duration": 4,
    "start_time": "2024-09-26T12:43:32.607Z"
   },
   {
    "duration": 27,
    "start_time": "2024-09-26T12:43:32.612Z"
   },
   {
    "duration": 13,
    "start_time": "2024-09-26T12:43:32.641Z"
   },
   {
    "duration": 286,
    "start_time": "2024-09-26T12:43:32.655Z"
   },
   {
    "duration": 0,
    "start_time": "2024-09-26T12:43:32.943Z"
   },
   {
    "duration": 0,
    "start_time": "2024-09-26T12:43:32.944Z"
   },
   {
    "duration": 0,
    "start_time": "2024-09-26T12:43:32.945Z"
   },
   {
    "duration": 13,
    "start_time": "2024-09-26T12:44:56.500Z"
   },
   {
    "duration": 14,
    "start_time": "2024-09-26T12:45:44.854Z"
   },
   {
    "duration": 713,
    "start_time": "2024-09-26T12:46:32.128Z"
   },
   {
    "duration": 1501,
    "start_time": "2024-09-26T12:46:56.231Z"
   },
   {
    "duration": 29,
    "start_time": "2024-09-26T12:46:57.735Z"
   },
   {
    "duration": 6,
    "start_time": "2024-09-26T12:46:57.765Z"
   },
   {
    "duration": 3,
    "start_time": "2024-09-26T12:46:57.774Z"
   },
   {
    "duration": 470,
    "start_time": "2024-09-26T12:46:57.778Z"
   },
   {
    "duration": 716,
    "start_time": "2024-09-26T12:46:58.249Z"
   },
   {
    "duration": 515,
    "start_time": "2024-09-26T12:46:58.967Z"
   },
   {
    "duration": 4,
    "start_time": "2024-09-26T12:46:59.484Z"
   },
   {
    "duration": 15,
    "start_time": "2024-09-26T12:46:59.490Z"
   },
   {
    "duration": 34,
    "start_time": "2024-09-26T12:46:59.509Z"
   },
   {
    "duration": 276,
    "start_time": "2024-09-26T12:46:59.544Z"
   },
   {
    "duration": 0,
    "start_time": "2024-09-26T12:46:59.822Z"
   },
   {
    "duration": 0,
    "start_time": "2024-09-26T12:46:59.831Z"
   },
   {
    "duration": 0,
    "start_time": "2024-09-26T12:46:59.833Z"
   },
   {
    "duration": 1535,
    "start_time": "2024-09-26T12:47:47.688Z"
   },
   {
    "duration": 28,
    "start_time": "2024-09-26T12:47:49.226Z"
   },
   {
    "duration": 6,
    "start_time": "2024-09-26T12:47:49.256Z"
   },
   {
    "duration": 3,
    "start_time": "2024-09-26T12:47:49.263Z"
   },
   {
    "duration": 466,
    "start_time": "2024-09-26T12:47:49.270Z"
   },
   {
    "duration": 729,
    "start_time": "2024-09-26T12:47:49.738Z"
   },
   {
    "duration": 530,
    "start_time": "2024-09-26T12:47:50.469Z"
   },
   {
    "duration": 3,
    "start_time": "2024-09-26T12:47:51.001Z"
   },
   {
    "duration": 26,
    "start_time": "2024-09-26T12:47:51.006Z"
   },
   {
    "duration": 16,
    "start_time": "2024-09-26T12:47:51.033Z"
   },
   {
    "duration": 38274,
    "start_time": "2024-09-26T12:47:51.050Z"
   },
   {
    "duration": 0,
    "start_time": "2024-09-26T12:48:29.326Z"
   },
   {
    "duration": 0,
    "start_time": "2024-09-26T12:48:29.327Z"
   },
   {
    "duration": 0,
    "start_time": "2024-09-26T12:48:29.328Z"
   },
   {
    "duration": 25,
    "start_time": "2024-09-26T12:50:46.448Z"
   },
   {
    "duration": 1496,
    "start_time": "2024-09-26T12:50:59.919Z"
   },
   {
    "duration": 35,
    "start_time": "2024-09-26T12:51:01.418Z"
   },
   {
    "duration": 7,
    "start_time": "2024-09-26T12:51:01.454Z"
   },
   {
    "duration": 3,
    "start_time": "2024-09-26T12:51:01.462Z"
   },
   {
    "duration": 464,
    "start_time": "2024-09-26T12:51:01.468Z"
   },
   {
    "duration": 741,
    "start_time": "2024-09-26T12:51:01.934Z"
   },
   {
    "duration": 523,
    "start_time": "2024-09-26T12:51:02.677Z"
   },
   {
    "duration": 3,
    "start_time": "2024-09-26T12:51:03.202Z"
   },
   {
    "duration": 28,
    "start_time": "2024-09-26T12:51:03.207Z"
   },
   {
    "duration": 16,
    "start_time": "2024-09-26T12:51:03.237Z"
   },
   {
    "duration": 284,
    "start_time": "2024-09-26T12:51:03.255Z"
   },
   {
    "duration": 0,
    "start_time": "2024-09-26T12:51:03.541Z"
   },
   {
    "duration": 0,
    "start_time": "2024-09-26T12:51:03.542Z"
   },
   {
    "duration": 0,
    "start_time": "2024-09-26T12:51:03.544Z"
   },
   {
    "duration": 23,
    "start_time": "2024-09-26T12:51:37.604Z"
   },
   {
    "duration": 21,
    "start_time": "2024-09-26T12:52:16.282Z"
   },
   {
    "duration": 23,
    "start_time": "2024-09-26T12:52:32.808Z"
   },
   {
    "duration": 1462,
    "start_time": "2024-09-26T12:52:40.386Z"
   },
   {
    "duration": 27,
    "start_time": "2024-09-26T12:52:41.850Z"
   },
   {
    "duration": 6,
    "start_time": "2024-09-26T12:52:41.879Z"
   },
   {
    "duration": 3,
    "start_time": "2024-09-26T12:52:41.887Z"
   },
   {
    "duration": 458,
    "start_time": "2024-09-26T12:52:41.893Z"
   },
   {
    "duration": 719,
    "start_time": "2024-09-26T12:52:42.354Z"
   },
   {
    "duration": 518,
    "start_time": "2024-09-26T12:52:43.075Z"
   },
   {
    "duration": 4,
    "start_time": "2024-09-26T12:52:43.594Z"
   },
   {
    "duration": 16,
    "start_time": "2024-09-26T12:52:43.599Z"
   },
   {
    "duration": 302,
    "start_time": "2024-09-26T12:52:43.631Z"
   },
   {
    "duration": 0,
    "start_time": "2024-09-26T12:52:43.934Z"
   },
   {
    "duration": 0,
    "start_time": "2024-09-26T12:52:43.935Z"
   },
   {
    "duration": 0,
    "start_time": "2024-09-26T12:52:43.936Z"
   },
   {
    "duration": 0,
    "start_time": "2024-09-26T12:52:43.937Z"
   },
   {
    "duration": 22,
    "start_time": "2024-09-26T12:53:52.585Z"
   },
   {
    "duration": 15,
    "start_time": "2024-09-26T12:55:51.885Z"
   },
   {
    "duration": 1553,
    "start_time": "2024-09-26T12:56:03.801Z"
   },
   {
    "duration": 30,
    "start_time": "2024-09-26T12:56:05.356Z"
   },
   {
    "duration": 7,
    "start_time": "2024-09-26T12:56:05.388Z"
   },
   {
    "duration": 3,
    "start_time": "2024-09-26T12:56:05.396Z"
   },
   {
    "duration": 481,
    "start_time": "2024-09-26T12:56:05.402Z"
   },
   {
    "duration": 688,
    "start_time": "2024-09-26T12:56:05.885Z"
   },
   {
    "duration": 520,
    "start_time": "2024-09-26T12:56:06.574Z"
   },
   {
    "duration": 3,
    "start_time": "2024-09-26T12:56:07.096Z"
   },
   {
    "duration": 32,
    "start_time": "2024-09-26T12:56:07.101Z"
   },
   {
    "duration": 17,
    "start_time": "2024-09-26T12:56:07.135Z"
   },
   {
    "duration": 43327,
    "start_time": "2024-09-26T12:56:07.153Z"
   },
   {
    "duration": 73,
    "start_time": "2024-09-26T12:56:50.482Z"
   },
   {
    "duration": 7,
    "start_time": "2024-09-26T12:56:50.632Z"
   },
   {
    "duration": 3,
    "start_time": "2024-09-26T12:56:50.642Z"
   },
   {
    "duration": 6,
    "start_time": "2024-09-26T13:02:08.312Z"
   },
   {
    "duration": 1436,
    "start_time": "2024-09-26T13:02:20.492Z"
   },
   {
    "duration": 7,
    "start_time": "2024-09-26T13:02:21.930Z"
   },
   {
    "duration": 33,
    "start_time": "2024-09-26T13:02:21.939Z"
   },
   {
    "duration": 346,
    "start_time": "2024-09-26T13:02:21.973Z"
   },
   {
    "duration": 0,
    "start_time": "2024-09-26T13:02:22.321Z"
   },
   {
    "duration": 0,
    "start_time": "2024-09-26T13:02:22.323Z"
   },
   {
    "duration": 0,
    "start_time": "2024-09-26T13:02:22.332Z"
   },
   {
    "duration": 0,
    "start_time": "2024-09-26T13:02:22.333Z"
   },
   {
    "duration": 0,
    "start_time": "2024-09-26T13:02:22.334Z"
   },
   {
    "duration": 0,
    "start_time": "2024-09-26T13:02:22.335Z"
   },
   {
    "duration": 0,
    "start_time": "2024-09-26T13:02:22.336Z"
   },
   {
    "duration": 0,
    "start_time": "2024-09-26T13:02:22.337Z"
   },
   {
    "duration": 0,
    "start_time": "2024-09-26T13:02:22.338Z"
   },
   {
    "duration": 0,
    "start_time": "2024-09-26T13:02:22.339Z"
   },
   {
    "duration": 0,
    "start_time": "2024-09-26T13:02:22.340Z"
   },
   {
    "duration": 1460,
    "start_time": "2024-09-26T13:04:54.380Z"
   },
   {
    "duration": 27,
    "start_time": "2024-09-26T13:04:55.842Z"
   },
   {
    "duration": 6,
    "start_time": "2024-09-26T13:04:55.871Z"
   },
   {
    "duration": 4,
    "start_time": "2024-09-26T13:04:55.879Z"
   },
   {
    "duration": 459,
    "start_time": "2024-09-26T13:04:55.885Z"
   },
   {
    "duration": 721,
    "start_time": "2024-09-26T13:04:56.345Z"
   },
   {
    "duration": 504,
    "start_time": "2024-09-26T13:04:57.067Z"
   },
   {
    "duration": 3,
    "start_time": "2024-09-26T13:04:57.573Z"
   },
   {
    "duration": 19,
    "start_time": "2024-09-26T13:04:57.580Z"
   },
   {
    "duration": 15,
    "start_time": "2024-09-26T13:04:57.600Z"
   },
   {
    "duration": 3284,
    "start_time": "2024-09-26T15:01:51.490Z"
   },
   {
    "duration": 29,
    "start_time": "2024-09-26T15:01:54.776Z"
   },
   {
    "duration": 6,
    "start_time": "2024-09-26T15:01:54.807Z"
   },
   {
    "duration": 11,
    "start_time": "2024-09-26T15:01:54.814Z"
   },
   {
    "duration": 509,
    "start_time": "2024-09-26T15:01:54.827Z"
   },
   {
    "duration": 719,
    "start_time": "2024-09-26T15:01:55.338Z"
   },
   {
    "duration": 514,
    "start_time": "2024-09-26T15:01:56.059Z"
   },
   {
    "duration": 3,
    "start_time": "2024-09-26T15:01:56.575Z"
   },
   {
    "duration": 16,
    "start_time": "2024-09-26T15:01:56.580Z"
   },
   {
    "duration": 32,
    "start_time": "2024-09-26T15:01:56.597Z"
   },
   {
    "duration": 43343,
    "start_time": "2024-09-26T15:01:56.631Z"
   },
   {
    "duration": 156,
    "start_time": "2024-09-26T15:02:39.976Z"
   },
   {
    "duration": 11,
    "start_time": "2024-09-26T15:02:40.134Z"
   },
   {
    "duration": 78,
    "start_time": "2024-09-26T15:02:40.147Z"
   },
   {
    "duration": 500,
    "start_time": "2024-09-26T15:04:02.941Z"
   },
   {
    "duration": 24,
    "start_time": "2024-09-26T15:08:38.324Z"
   },
   {
    "duration": 24,
    "start_time": "2024-09-26T15:09:11.944Z"
   },
   {
    "duration": 1496,
    "start_time": "2024-09-26T15:09:20.861Z"
   },
   {
    "duration": 23,
    "start_time": "2024-09-26T15:09:22.360Z"
   },
   {
    "duration": 340,
    "start_time": "2024-09-26T15:09:22.385Z"
   },
   {
    "duration": 0,
    "start_time": "2024-09-26T15:09:22.727Z"
   },
   {
    "duration": 0,
    "start_time": "2024-09-26T15:09:22.728Z"
   },
   {
    "duration": 0,
    "start_time": "2024-09-26T15:09:22.730Z"
   },
   {
    "duration": 0,
    "start_time": "2024-09-26T15:09:22.731Z"
   },
   {
    "duration": 0,
    "start_time": "2024-09-26T15:09:22.732Z"
   },
   {
    "duration": 0,
    "start_time": "2024-09-26T15:09:22.733Z"
   },
   {
    "duration": 0,
    "start_time": "2024-09-26T15:09:22.734Z"
   },
   {
    "duration": 0,
    "start_time": "2024-09-26T15:09:22.735Z"
   },
   {
    "duration": 0,
    "start_time": "2024-09-26T15:09:22.736Z"
   },
   {
    "duration": 0,
    "start_time": "2024-09-26T15:09:22.738Z"
   },
   {
    "duration": 0,
    "start_time": "2024-09-26T15:09:22.739Z"
   },
   {
    "duration": 1433,
    "start_time": "2024-09-26T15:10:08.653Z"
   },
   {
    "duration": 328,
    "start_time": "2024-09-26T15:10:10.089Z"
   },
   {
    "duration": 0,
    "start_time": "2024-09-26T15:10:10.420Z"
   },
   {
    "duration": 0,
    "start_time": "2024-09-26T15:10:10.420Z"
   },
   {
    "duration": 0,
    "start_time": "2024-09-26T15:10:10.421Z"
   },
   {
    "duration": 0,
    "start_time": "2024-09-26T15:10:10.421Z"
   },
   {
    "duration": 0,
    "start_time": "2024-09-26T15:10:10.422Z"
   },
   {
    "duration": 0,
    "start_time": "2024-09-26T15:10:10.422Z"
   },
   {
    "duration": 0,
    "start_time": "2024-09-26T15:10:10.423Z"
   },
   {
    "duration": 0,
    "start_time": "2024-09-26T15:10:10.424Z"
   },
   {
    "duration": 0,
    "start_time": "2024-09-26T15:10:10.425Z"
   },
   {
    "duration": 0,
    "start_time": "2024-09-26T15:10:10.427Z"
   },
   {
    "duration": 0,
    "start_time": "2024-09-26T15:10:10.428Z"
   },
   {
    "duration": 0,
    "start_time": "2024-09-26T15:10:10.429Z"
   },
   {
    "duration": 3502,
    "start_time": "2024-09-26T15:56:27.512Z"
   },
   {
    "duration": 345,
    "start_time": "2024-09-26T15:56:31.016Z"
   },
   {
    "duration": 6,
    "start_time": "2024-09-26T15:56:49.183Z"
   },
   {
    "duration": 89,
    "start_time": "2024-09-30T12:37:57.163Z"
   },
   {
    "duration": 4,
    "start_time": "2024-09-30T12:39:08.297Z"
   },
   {
    "duration": 1620,
    "start_time": "2024-09-30T12:39:24.496Z"
   },
   {
    "duration": 6,
    "start_time": "2024-09-30T12:39:26.118Z"
   },
   {
    "duration": 4,
    "start_time": "2024-09-30T12:39:26.126Z"
   },
   {
    "duration": 30,
    "start_time": "2024-09-30T12:39:26.133Z"
   },
   {
    "duration": 22,
    "start_time": "2024-09-30T12:39:26.165Z"
   },
   {
    "duration": 526,
    "start_time": "2024-09-30T12:39:26.189Z"
   },
   {
    "duration": 814,
    "start_time": "2024-09-30T12:39:26.717Z"
   },
   {
    "duration": 593,
    "start_time": "2024-09-30T12:39:27.533Z"
   },
   {
    "duration": 5,
    "start_time": "2024-09-30T12:39:28.128Z"
   },
   {
    "duration": 19,
    "start_time": "2024-09-30T12:39:28.137Z"
   },
   {
    "duration": 44,
    "start_time": "2024-09-30T12:39:28.158Z"
   }
  ],
  "kernelspec": {
   "display_name": "Python 3 (ipykernel)",
   "language": "python",
   "name": "python3"
  },
  "language_info": {
   "codemirror_mode": {
    "name": "ipython",
    "version": 3
   },
   "file_extension": ".py",
   "mimetype": "text/x-python",
   "name": "python",
   "nbconvert_exporter": "python",
   "pygments_lexer": "ipython3",
   "version": "3.9.19"
  },
  "toc": {
   "base_numbering": 1,
   "nav_menu": {},
   "number_sections": true,
   "sideBar": true,
   "skip_h1_title": true,
   "title_cell": "Table of Contents",
   "title_sidebar": "Contents",
   "toc_cell": false,
   "toc_position": {},
   "toc_section_display": true,
   "toc_window_display": false
  }
 },
 "nbformat": 4,
 "nbformat_minor": 2
}
